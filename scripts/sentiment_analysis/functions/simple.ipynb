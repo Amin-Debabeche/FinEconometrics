{
 "cells": [
  {
   "cell_type": "code",
   "execution_count": 210,
   "metadata": {},
   "outputs": [],
   "source": [
    "import os\n",
    "import re\n",
    "import pandas as pd\n",
    "from time import time\n",
    "from datetime import datetime, timedelta\n",
    "import numpy as np\n",
    "import nltk\n",
    "import spacy\n",
    "import seaborn as sns\n",
    "import matplotlib.pyplot as plt\n",
    "from tqdm import tqdm\n",
    "\n",
    "RANDOM_SEED = 7\n",
    "DATA_DIR = \"../../../data/\"\n",
    "INTERM_DIR = '../../../data/compiled_data/'\n",
    "\n",
    "twitter_data_path = os.path.join(DATA_DIR, 'final/tweets_data_final.csv')\n",
    "replies_data_path = os.path.join(DATA_DIR, 'final/replies_data_final.csv')\n",
    "bitcoin_data_path = os.path.join(DATA_DIR, 'final/bitcoin_halfhour_data.csv')\n",
    "sentiment_data_path = os.path.join(DATA_DIR, 'final/sentiment_score.csv')"
   ]
  },
  {
   "cell_type": "code",
   "execution_count": 211,
   "metadata": {},
   "outputs": [],
   "source": [
    "def load_twitter_data(data_path, nrows=None, cols=['text', 'conversation_id','created_at', 'retweet_count', 'reply_count', 'like_count','quote_count', 'is_reply_to_user', 'related_user_id',]):\n",
    "    \"Load twitter data, nrows None indicates all rows, otherwise specified integer of rows\"\n",
    "    data = pd.read_csv(data_path, nrows = nrows, delimiter=',', usecols=cols)\n",
    "    data = data[data['text'] != '']\n",
    "    data['created_at'] = pd.to_datetime(data['created_at']).dt.strftime('%Y-%m-%d %H:%M:%S')\n",
    "    return data"
   ]
  },
  {
   "cell_type": "code",
   "execution_count": 212,
   "metadata": {},
   "outputs": [],
   "source": [
    "def load_bitcoin(data_path):\n",
    "    asset = pd.read_csv(data_path)\n",
    "    asset = asset.dropna()\n",
    "    asset['time'] = pd.to_datetime(asset['time'])\n",
    "    return asset"
   ]
  },
  {
   "cell_type": "code",
   "execution_count": 216,
   "metadata": {},
   "outputs": [],
   "source": [
    "twitter_df = load_twitter_data(twitter_data_path)\n",
    "replies_df = load_twitter_data(replies_data_path)\n",
    "bitcoin_df = load_bitcoin(bitcoin_data_path)\n",
    "sentiment = pd.read_csv(sentiment_data_path, nrows = None, delimiter=',')\n"
   ]
  },
  {
   "cell_type": "code",
   "execution_count": 219,
   "metadata": {},
   "outputs": [],
   "source": [
    "total_df = pd.concat([twitter_df, replies_df], ignore_index=True)\n"
   ]
  },
  {
   "cell_type": "code",
   "execution_count": 220,
   "metadata": {},
   "outputs": [],
   "source": [
    "def weighted_compound(df, drop_ratio=1, o_w=0.7):\n",
    "    df['ratio'] = 0\n",
    "    df['w_sa'] = 0\n",
    "    df['ratio'] = (df[df['is_reply_to_user']==1].groupby(by=\"conversation_id\")['like_count'].transform(lambda x: (x / x.sum())) * df['compound_sa'])\n",
    "    for item in pd.unique(df['conversation_id']):\n",
    "        o = df[(df['conversation_id']==item) & (df['is_reply_to_user']==0)]['compound_sa'].sum()\n",
    "        r = df[(df['conversation_id']==item) & (df['is_reply_to_user']==1)]['ratio'].sum()\n",
    "        pct = abs((o-r)/o)\n",
    "        idx = df[(df['conversation_id']==item)].index\n",
    "        if pct > drop_ratio:\n",
    "            df.drop(idx)\n",
    "            continue\n",
    "        df.loc[idx, 'w_sa'] = (o*o_w) + (r*(1-o_w))\n",
    "    df.drop(df[(df['is_reply_to_user']==1)].index)\n",
    "    return df"
   ]
  },
  {
   "cell_type": "code",
   "execution_count": 221,
   "metadata": {},
   "outputs": [
    {
     "name": "stderr",
     "output_type": "stream",
     "text": [
      "<ipython-input-220-dcaa74798b8e>:8: RuntimeWarning: divide by zero encountered in double_scalars\n",
      "  pct = abs((o-r)/o)\n",
      "<ipython-input-220-dcaa74798b8e>:8: RuntimeWarning: invalid value encountered in double_scalars\n",
      "  pct = abs((o-r)/o)\n"
     ]
    }
   ],
   "source": [
    "sentiment = weighted_compound(sentiment, drop_ratio=0.5)"
   ]
  },
  {
   "cell_type": "code",
   "execution_count": 199,
   "metadata": {},
   "outputs": [],
   "source": [
    "def clustering(df, delta='30T', rate=0.022):\n",
    "    df['created_at'] = pd.to_datetime(df['created_at'])\n",
    "    df.set_index('created_at', inplace=True)\n",
    "    total_df['created_at'] = pd.to_datetime(total_df['created_at'])\n",
    "    total_df.set_index('created_at', inplace=True)\n",
    "    features = ['retweet_count', 'reply_count',\n",
    "        'like_count', 'quote_count', 'w_sa']\n",
    "    features_df=df.resample(delta)[features].mean()\n",
    "    features_df['total_tweets'] = total_df.resample('30T').size()\n",
    "    features_df = features_df.dropna(how='any', axis=0)\n",
    "    features_df = features_df[abs(features_df['w_sa'].pct_change()) > rate]\n",
    "    return features_df"
   ]
  },
  {
   "cell_type": "code",
   "execution_count": 201,
   "metadata": {},
   "outputs": [
    {
     "ename": "KeyError",
     "evalue": "\"Columns not found: 'w_sa'\"",
     "output_type": "error",
     "traceback": [
      "\u001b[0;31m---------------------------------------------------------------------------\u001b[0m",
      "\u001b[0;31mKeyError\u001b[0m                                  Traceback (most recent call last)",
      "\u001b[0;32m<ipython-input-201-cfb1f6f9daff>\u001b[0m in \u001b[0;36m<module>\u001b[0;34m\u001b[0m\n\u001b[0;32m----> 1\u001b[0;31m \u001b[0mfeatures_df\u001b[0m \u001b[0;34m=\u001b[0m \u001b[0mclustering\u001b[0m\u001b[0;34m(\u001b[0m\u001b[0msentiment\u001b[0m\u001b[0;34m)\u001b[0m\u001b[0;34m\u001b[0m\u001b[0;34m\u001b[0m\u001b[0m\n\u001b[0m\u001b[1;32m      2\u001b[0m \u001b[0mfeatures_df\u001b[0m\u001b[0;34m.\u001b[0m\u001b[0mhead\u001b[0m\u001b[0;34m(\u001b[0m\u001b[0;34m)\u001b[0m\u001b[0;34m\u001b[0m\u001b[0;34m\u001b[0m\u001b[0m\n",
      "\u001b[0;32m<ipython-input-199-cbf774ba8af7>\u001b[0m in \u001b[0;36mclustering\u001b[0;34m(df, delta, rate)\u001b[0m\n\u001b[1;32m      6\u001b[0m     features = ['retweet_count', 'reply_count',\n\u001b[1;32m      7\u001b[0m         'like_count', 'quote_count', 'w_sa']\n\u001b[0;32m----> 8\u001b[0;31m     \u001b[0mfeatures_df\u001b[0m\u001b[0;34m=\u001b[0m\u001b[0mdf\u001b[0m\u001b[0;34m.\u001b[0m\u001b[0mresample\u001b[0m\u001b[0;34m(\u001b[0m\u001b[0mdelta\u001b[0m\u001b[0;34m)\u001b[0m\u001b[0;34m[\u001b[0m\u001b[0mfeatures\u001b[0m\u001b[0;34m]\u001b[0m\u001b[0;34m.\u001b[0m\u001b[0mmean\u001b[0m\u001b[0;34m(\u001b[0m\u001b[0;34m)\u001b[0m\u001b[0;34m\u001b[0m\u001b[0;34m\u001b[0m\u001b[0m\n\u001b[0m\u001b[1;32m      9\u001b[0m     \u001b[0mfeatures_df\u001b[0m\u001b[0;34m[\u001b[0m\u001b[0;34m'total_tweets'\u001b[0m\u001b[0;34m]\u001b[0m \u001b[0;34m=\u001b[0m \u001b[0mtotal_df\u001b[0m\u001b[0;34m.\u001b[0m\u001b[0mresample\u001b[0m\u001b[0;34m(\u001b[0m\u001b[0;34m'30T'\u001b[0m\u001b[0;34m)\u001b[0m\u001b[0;34m.\u001b[0m\u001b[0msize\u001b[0m\u001b[0;34m(\u001b[0m\u001b[0;34m)\u001b[0m\u001b[0;34m\u001b[0m\u001b[0;34m\u001b[0m\u001b[0m\n\u001b[1;32m     10\u001b[0m     \u001b[0mfeatures_df\u001b[0m \u001b[0;34m=\u001b[0m \u001b[0mfeatures_df\u001b[0m\u001b[0;34m.\u001b[0m\u001b[0mdropna\u001b[0m\u001b[0;34m(\u001b[0m\u001b[0mhow\u001b[0m\u001b[0;34m=\u001b[0m\u001b[0;34m'any'\u001b[0m\u001b[0;34m,\u001b[0m \u001b[0maxis\u001b[0m\u001b[0;34m=\u001b[0m\u001b[0;36m0\u001b[0m\u001b[0;34m)\u001b[0m\u001b[0;34m\u001b[0m\u001b[0;34m\u001b[0m\u001b[0m\n",
      "\u001b[0;32m/usr/local/lib/python3.9/site-packages/pandas/core/base.py\u001b[0m in \u001b[0;36m__getitem__\u001b[0;34m(self, key)\u001b[0m\n\u001b[1;32m    220\u001b[0m             \u001b[0;32mif\u001b[0m \u001b[0mlen\u001b[0m\u001b[0;34m(\u001b[0m\u001b[0mself\u001b[0m\u001b[0;34m.\u001b[0m\u001b[0mobj\u001b[0m\u001b[0;34m.\u001b[0m\u001b[0mcolumns\u001b[0m\u001b[0;34m.\u001b[0m\u001b[0mintersection\u001b[0m\u001b[0;34m(\u001b[0m\u001b[0mkey\u001b[0m\u001b[0;34m)\u001b[0m\u001b[0;34m)\u001b[0m \u001b[0;34m!=\u001b[0m \u001b[0mlen\u001b[0m\u001b[0;34m(\u001b[0m\u001b[0mkey\u001b[0m\u001b[0;34m)\u001b[0m\u001b[0;34m:\u001b[0m\u001b[0;34m\u001b[0m\u001b[0;34m\u001b[0m\u001b[0m\n\u001b[1;32m    221\u001b[0m                 \u001b[0mbad_keys\u001b[0m \u001b[0;34m=\u001b[0m \u001b[0mlist\u001b[0m\u001b[0;34m(\u001b[0m\u001b[0mset\u001b[0m\u001b[0;34m(\u001b[0m\u001b[0mkey\u001b[0m\u001b[0;34m)\u001b[0m\u001b[0;34m.\u001b[0m\u001b[0mdifference\u001b[0m\u001b[0;34m(\u001b[0m\u001b[0mself\u001b[0m\u001b[0;34m.\u001b[0m\u001b[0mobj\u001b[0m\u001b[0;34m.\u001b[0m\u001b[0mcolumns\u001b[0m\u001b[0;34m)\u001b[0m\u001b[0;34m)\u001b[0m\u001b[0;34m\u001b[0m\u001b[0;34m\u001b[0m\u001b[0m\n\u001b[0;32m--> 222\u001b[0;31m                 \u001b[0;32mraise\u001b[0m \u001b[0mKeyError\u001b[0m\u001b[0;34m(\u001b[0m\u001b[0;34mf\"Columns not found: {str(bad_keys)[1:-1]}\"\u001b[0m\u001b[0;34m)\u001b[0m\u001b[0;34m\u001b[0m\u001b[0;34m\u001b[0m\u001b[0m\n\u001b[0m\u001b[1;32m    223\u001b[0m             \u001b[0;32mreturn\u001b[0m \u001b[0mself\u001b[0m\u001b[0;34m.\u001b[0m\u001b[0m_gotitem\u001b[0m\u001b[0;34m(\u001b[0m\u001b[0mlist\u001b[0m\u001b[0;34m(\u001b[0m\u001b[0mkey\u001b[0m\u001b[0;34m)\u001b[0m\u001b[0;34m,\u001b[0m \u001b[0mndim\u001b[0m\u001b[0;34m=\u001b[0m\u001b[0;36m2\u001b[0m\u001b[0;34m)\u001b[0m\u001b[0;34m\u001b[0m\u001b[0;34m\u001b[0m\u001b[0m\n\u001b[1;32m    224\u001b[0m \u001b[0;34m\u001b[0m\u001b[0m\n",
      "\u001b[0;31mKeyError\u001b[0m: \"Columns not found: 'w_sa'\""
     ]
    }
   ],
   "source": [
    "features_df = clustering(sentiment)\n",
    "features_df.head()"
   ]
  },
  {
   "cell_type": "code",
   "execution_count": 125,
   "metadata": {},
   "outputs": [],
   "source": [
    "def returns_comput(features, bitcoin):\n",
    "    t_0 = features.index\n",
    "    t_1 = t_0 + timedelta(hours=2.0)\n",
    "    bitcoin['time'] = bitcoin['time'].dt.strftime('%Y-%m-%d %H:%M:00')\n",
    "    t_0 = t_0.strftime('%Y-%m-%d %H:%M:00')\n",
    "    t_1 = t_1.strftime('%Y-%m-%d %H:%M:00')\n",
    "    t_all = t_0.append(t_1)\n",
    "    bitcoin = bitcoin[(bitcoin['time'].isin(t_all))][['time', 'close', 'volume']]\n",
    "    bitcoin['time'] = pd.to_datetime(bitcoin['time'])\n",
    "    bitcoin = bitcoin.set_index('time')\n",
    "    bitcoin['returns'] = bitcoin.pct_change(periods=1, freq='120T')['close']\n",
    "    bitcoin = bitcoin.dropna(how='any', axis=0)\n",
    "    bitcoin.index = bitcoin.index - timedelta(hours=2.0)\n",
    "    return bitcoin"
   ]
  },
  {
   "cell_type": "code",
   "execution_count": 126,
   "metadata": {},
   "outputs": [],
   "source": [
    "bitcoin = returns_comput(features_df, bitcoin_df)"
   ]
  },
  {
   "cell_type": "code",
   "execution_count": 127,
   "metadata": {},
   "outputs": [],
   "source": [
    "features_df = pd.merge(features_df, bitcoin, left_index=True, right_index=True)\n",
    "features_df['binary'] = 1\n",
    "features_df.loc[features_df.returns < 0, 'binary'] = 0"
   ]
  },
  {
   "cell_type": "code",
   "execution_count": 129,
   "metadata": {},
   "outputs": [
    {
     "ename": "ValueError",
     "evalue": "window shape cannot be larger than input array shape",
     "output_type": "error",
     "traceback": [
      "\u001b[0;31m---------------------------------------------------------------------------\u001b[0m",
      "\u001b[0;31mValueError\u001b[0m                                Traceback (most recent call last)",
      "\u001b[0;32m<ipython-input-129-a37bb8e76ea1>\u001b[0m in \u001b[0;36m<module>\u001b[0;34m\u001b[0m\n\u001b[1;32m      4\u001b[0m \u001b[0mX\u001b[0m \u001b[0;34m=\u001b[0m \u001b[0mdf\u001b[0m\u001b[0;34m.\u001b[0m\u001b[0mto_numpy\u001b[0m\u001b[0;34m(\u001b[0m\u001b[0;34m)\u001b[0m \u001b[0;31m#.shift(1).dropna().to_numpy()\u001b[0m\u001b[0;34m\u001b[0m\u001b[0;34m\u001b[0m\u001b[0m\n\u001b[1;32m      5\u001b[0m \u001b[0mwindow_size\u001b[0m \u001b[0;34m=\u001b[0m \u001b[0;36m6\u001b[0m\u001b[0;34m\u001b[0m\u001b[0;34m\u001b[0m\u001b[0m\n\u001b[0;32m----> 6\u001b[0;31m \u001b[0mwindowed_X\u001b[0m \u001b[0;34m=\u001b[0m \u001b[0msliding_window_view\u001b[0m\u001b[0;34m(\u001b[0m\u001b[0mnp\u001b[0m\u001b[0;34m.\u001b[0m\u001b[0mflip\u001b[0m\u001b[0;34m(\u001b[0m\u001b[0mX\u001b[0m\u001b[0;34m,\u001b[0m \u001b[0maxis\u001b[0m\u001b[0;34m=\u001b[0m\u001b[0;36m0\u001b[0m\u001b[0;34m)\u001b[0m\u001b[0;34m,\u001b[0m \u001b[0mwindow_shape\u001b[0m \u001b[0;34m=\u001b[0m \u001b[0mwindow_size\u001b[0m\u001b[0;34m,\u001b[0m \u001b[0maxis\u001b[0m\u001b[0;34m=\u001b[0m\u001b[0;36m0\u001b[0m\u001b[0;34m)\u001b[0m\u001b[0;34m\u001b[0m\u001b[0;34m\u001b[0m\u001b[0m\n\u001b[0m\u001b[1;32m      7\u001b[0m \u001b[0mwindowed_X\u001b[0m \u001b[0;34m=\u001b[0m \u001b[0mnp\u001b[0m\u001b[0;34m.\u001b[0m\u001b[0mflip\u001b[0m\u001b[0;34m(\u001b[0m\u001b[0mwindowed_X\u001b[0m\u001b[0;34m,\u001b[0m \u001b[0maxis\u001b[0m\u001b[0;34m=\u001b[0m\u001b[0;36m0\u001b[0m\u001b[0;34m)\u001b[0m\u001b[0;34m\u001b[0m\u001b[0;34m\u001b[0m\u001b[0m\n\u001b[1;32m      8\u001b[0m \u001b[0mwindowed_X\u001b[0m \u001b[0;34m=\u001b[0m \u001b[0mnp\u001b[0m\u001b[0;34m.\u001b[0m\u001b[0mflip\u001b[0m\u001b[0;34m(\u001b[0m\u001b[0mwindowed_X\u001b[0m\u001b[0;34m,\u001b[0m \u001b[0maxis\u001b[0m\u001b[0;34m=\u001b[0m\u001b[0;36m2\u001b[0m\u001b[0;34m)\u001b[0m\u001b[0;34m\u001b[0m\u001b[0;34m\u001b[0m\u001b[0m\n",
      "\u001b[0;32m<__array_function__ internals>\u001b[0m in \u001b[0;36msliding_window_view\u001b[0;34m(*args, **kwargs)\u001b[0m\n",
      "\u001b[0;32m/usr/local/lib/python3.9/site-packages/numpy/lib/stride_tricks.py\u001b[0m in \u001b[0;36msliding_window_view\u001b[0;34m(x, window_shape, axis, subok, writeable)\u001b[0m\n\u001b[1;32m    329\u001b[0m     \u001b[0;32mfor\u001b[0m \u001b[0max\u001b[0m\u001b[0;34m,\u001b[0m \u001b[0mdim\u001b[0m \u001b[0;32min\u001b[0m \u001b[0mzip\u001b[0m\u001b[0;34m(\u001b[0m\u001b[0maxis\u001b[0m\u001b[0;34m,\u001b[0m \u001b[0mwindow_shape\u001b[0m\u001b[0;34m)\u001b[0m\u001b[0;34m:\u001b[0m\u001b[0;34m\u001b[0m\u001b[0;34m\u001b[0m\u001b[0m\n\u001b[1;32m    330\u001b[0m         \u001b[0;32mif\u001b[0m \u001b[0mx_shape_trimmed\u001b[0m\u001b[0;34m[\u001b[0m\u001b[0max\u001b[0m\u001b[0;34m]\u001b[0m \u001b[0;34m<\u001b[0m \u001b[0mdim\u001b[0m\u001b[0;34m:\u001b[0m\u001b[0;34m\u001b[0m\u001b[0;34m\u001b[0m\u001b[0m\n\u001b[0;32m--> 331\u001b[0;31m             raise ValueError(\n\u001b[0m\u001b[1;32m    332\u001b[0m                 'window shape cannot be larger than input array shape')\n\u001b[1;32m    333\u001b[0m         \u001b[0mx_shape_trimmed\u001b[0m\u001b[0;34m[\u001b[0m\u001b[0max\u001b[0m\u001b[0;34m]\u001b[0m \u001b[0;34m-=\u001b[0m \u001b[0mdim\u001b[0m \u001b[0;34m-\u001b[0m \u001b[0;36m1\u001b[0m\u001b[0;34m\u001b[0m\u001b[0;34m\u001b[0m\u001b[0m\n",
      "\u001b[0;31mValueError\u001b[0m: window shape cannot be larger than input array shape"
     ]
    }
   ],
   "source": [
    "from numpy.lib.stride_tricks import sliding_window_view\n",
    "y = features_df['binary']\n",
    "df = features_df.drop(columns=['binary'])\n",
    "X = df.to_numpy() #.shift(1).dropna().to_numpy()\n",
    "window_size = 6\n",
    "windowed_X = sliding_window_view(np.flip(X, axis=0), window_shape = window_size, axis=0)\n",
    "windowed_X = np.flip(windowed_X, axis=0)\n",
    "windowed_X = np.flip(windowed_X, axis=2)\n",
    "\n",
    "y = y.iloc[window_size:].to_numpy()\n",
    "print(windowed_X.shape)"
   ]
  },
  {
   "cell_type": "code",
   "execution_count": null,
   "metadata": {},
   "outputs": [
    {
     "name": "stdout",
     "output_type": "stream",
     "text": [
      "[12 13 14 15 16 17 18]\n",
      "[19 20 21 22 23 24 25]\n",
      "(17, 9, 2)\n",
      "(3, 9, 2)\n",
      "(2, 9, 2)\n"
     ]
    }
   ],
   "source": [
    "import sklearn\n",
    "# print(sklearn.__version__) # make sure > 0.24\n",
    "X = windowed_X\n",
    "trainsplit = sklearn.model_selection.TimeSeriesSplit(n_splits=2, gap = window_size, test_size = int(0.3 * X.shape[0]))\n",
    "\n",
    "for train_index, rem_index in trainsplit.split(X):\n",
    "    print(rem_index)\n",
    "    X_train, X_rem = X[train_index], X[rem_index-1]\n",
    "    y_train, y_rem = y[train_index], y[rem_index-1]\n",
    "    \n",
    "valsplit = sklearn.model_selection.TimeSeriesSplit(n_splits=2, gap = window_size, test_size = int(0.33 * X_rem.shape[0]))\n",
    "for val_index, test_index in valsplit.split(X_rem):\n",
    "    X_val, X_test = X_rem[val_index], X_rem[test_index]\n",
    "    y_val, y_test = y_rem[val_index], y_rem[test_index]\n",
    "    \n",
    "print(X_train.shape)\n",
    "print(X_val.shape)\n",
    "print(X_test.shape)"
   ]
  },
  {
   "cell_type": "code",
   "execution_count": null,
   "metadata": {},
   "outputs": [],
   "source": [
    "import pickle as pkl\n",
    "with open(os.path.join(INTERM_DIR, 'train_data.pkl'), 'wb') as f:\n",
    "    pkl.dump([X_train, y_train, X_val, y_val, X_test, y_test], f)"
   ]
  },
  {
   "cell_type": "code",
   "execution_count": null,
   "metadata": {},
   "outputs": [],
   "source": [
    "with open(os.path.join(INTERM_DIR, 'train_data.pkl'), 'rb') as f:\n",
    "    X_train, y_train, X_val, y_val, X_test, y_test = pkl.load(f)"
   ]
  }
 ],
 "metadata": {
  "interpreter": {
   "hash": "aee8b7b246df8f9039afb4144a1f6fd8d2ca17a180786b69acc140d282b71a49"
  },
  "kernelspec": {
   "display_name": "Python 3.9.10 64-bit",
   "language": "python",
   "name": "python3"
  },
  "language_info": {
   "codemirror_mode": {
    "name": "ipython",
    "version": 3
   },
   "file_extension": ".py",
   "mimetype": "text/x-python",
   "name": "python",
   "nbconvert_exporter": "python",
   "pygments_lexer": "ipython3",
   "version": "3.9.10"
  },
  "orig_nbformat": 4
 },
 "nbformat": 4,
 "nbformat_minor": 2
}
