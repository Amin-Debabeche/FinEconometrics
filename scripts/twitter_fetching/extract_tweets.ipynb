{
 "cells": [
  {
   "cell_type": "code",
   "execution_count": 9,
   "id": "1781f208",
   "metadata": {},
   "outputs": [],
   "source": [
    "# For sending GET requests from the API\n",
    "import requests\n",
    "# For saving access tokens and for file management when creating and adding to the dataset\n",
    "import os\n",
    "# For dealing with json responses we receive from the API\n",
    "import json\n",
    "# For displaying the data after\n",
    "import pandas as pd\n",
    "# For saving the response data in CSV format\n",
    "import csv\n",
    "# For parsing the dates received from twitter in readable formats\n",
    "import numpy as np\n",
    "import datetime\n",
    "import time"
   ]
  },
  {
   "cell_type": "markdown",
   "id": "6f0c635f",
   "metadata": {},
   "source": [
    "# Set up"
   ]
  },
  {
   "cell_type": "code",
   "execution_count": 2,
   "id": "aa781a2d",
   "metadata": {},
   "outputs": [],
   "source": [
    "os.environ['TOKEN'] = 'AAAAAAAAAAAAAAAAAAAAAKHzbwEAAAAANrBlqwYokl3ttFARZ4ZmiSD7Bw0%3DRa8THgCyIJMa416ckXp3dLfyC4JgfsugJPgLkRT802r0hynEoy'"
   ]
  },
  {
   "cell_type": "code",
   "execution_count": 3,
   "id": "007e4f59",
   "metadata": {},
   "outputs": [],
   "source": [
    "def auth():\n",
    "    return os.getenv('TOKEN')"
   ]
  },
  {
   "cell_type": "code",
   "execution_count": 4,
   "id": "61b8e8f3",
   "metadata": {},
   "outputs": [],
   "source": [
    "def create_headers(bearer_token):\n",
    "    headers = {\"Authorization\": \"Bearer {}\".format(bearer_token)}\n",
    "    return headers"
   ]
  },
  {
   "cell_type": "code",
   "execution_count": 11,
   "id": "5e198895",
   "metadata": {},
   "outputs": [],
   "source": [
    "# Search user information\n",
    "def create_user_url(name_list):\n",
    "    \"\"\"\n",
    "    name_list: a string in form of 'xx1,xx2,xx3'\n",
    "    \"\"\"\n",
    "    \n",
    "    search_url = \"https://api.twitter.com/2/users/by\" # User information\n",
    "\n",
    "    #change params based on the endpoint you are using\n",
    "    query_params = {'usernames': name_list,\n",
    "                     'user.fields': 'created_at,public_metrics'}\n",
    "    return (search_url, query_params)"
   ]
  },
  {
   "cell_type": "code",
   "execution_count": 5,
   "id": "67099b76",
   "metadata": {},
   "outputs": [],
   "source": [
    "# Search tweets based on keyword and username\n",
    "def create_keyword_url(keyword, user_name, max_results, start_time, end_time_url):\n",
    "    \"\"\"\n",
    "    keyword: a string in form of 'xx OR xx OR xx'\n",
    "    user_name: a string in form of 'xxx OR xxx OR xxx'\n",
    "    max_results: number of return\n",
    "    \"\"\"\n",
    "    \n",
    "    search_url = \"https://api.twitter.com/2/tweets/search/all\" # Tweets information\n",
    "\n",
    "    #change params based on the endpoint you are using\n",
    "    query_params = {'query': '(' + keyword + ') ('+'from:'+ user_name + ')' + ' -is:reply' + ' lang:en',\n",
    "                    'start_time': '2021-05-15T00:00:00.000Z',\n",
    "                    'end_time': '2022-05-15T00:00:00.000Z',\n",
    "                    'max_results': max_results,\n",
    "                   'tweet.fields': 'created_at,public_metrics,conversation_id'}\n",
    "\n",
    "    return (search_url, query_params)"
   ]
  },
  {
   "cell_type": "code",
   "execution_count": 7,
   "id": "54695639",
   "metadata": {},
   "outputs": [],
   "source": [
    "# Search replies of a specific tweet\n",
    "def create_reply_url(to_user, conversation_id, max_results, start_time, end_time):\n",
    "    \"\"\"\n",
    "    to_user: the user who tweet\n",
    "    conversation_id: the conversation_id of the tweet\n",
    "    max_result: number of return\n",
    "    \"\"\"\n",
    "    \n",
    "    \n",
    "    search_url = \"https://api.twitter.com/2/tweets/search/all\" # Tweets information\n",
    "\n",
    "    #change params based on the endpoint you are using\n",
    "    query_params = {'query': '(conversation_id:'+ conversation_id + ') ( ' + 'to:' + to_user + ')' ,\n",
    "                    'max_results': max_results,\n",
    "                    'start_time': '2021-05-15T00:00:00.000Z',\n",
    "                    'end_time': '2022-05-16T00:00:00.000Z',              # one day extension of replies\n",
    "                    'expansions': 'in_reply_to_user_id',\n",
    "                   'tweet.fields': 'created_at,public_metrics,conversation_id'}\n",
    "    return (search_url, query_params)"
   ]
  },
  {
   "cell_type": "code",
   "execution_count": 8,
   "id": "2016cf55",
   "metadata": {},
   "outputs": [],
   "source": [
    "def create_rate_url():\n",
    "    search_url = \"https://api.twitter.com/1.1/application/rate_limit_status.json\"\n",
    "    query_params = {'resources' : 'help,users,search,statuses'}\n",
    "    return (search_url, query_params)"
   ]
  },
  {
   "cell_type": "code",
   "execution_count": 6,
   "id": "f4bac13f",
   "metadata": {},
   "outputs": [],
   "source": [
    "def connect_to_endpoint(url, headers, params, next_token = None):\n",
    "    params['next_token'] = next_token   #params object received from create_url function\n",
    "    response = requests.request(\"GET\", url, headers = headers, params = params)\n",
    "    print(\"Endpoint Response Code: \" + str(response.status_code))\n",
    "    if response.status_code != 200:\n",
    "        raise Exception(response.status_code, response.text)\n",
    "    return response.json()"
   ]
  },
  {
   "cell_type": "code",
   "execution_count": 10,
   "id": "12adc43d",
   "metadata": {},
   "outputs": [],
   "source": [
    "def manage_rate_limits(response):\n",
    "    while True:\n",
    "\n",
    "        # Get number of requests left with our tokens\n",
    "        remaining_requests = int(response.headers[\"x-rate-limit-remaining\"])\n",
    "\n",
    "        # If that number is one, we get the reset-time and wait until then, plus 15 seconds.\n",
    "        if remaining_requests == 1:\n",
    "            buffer_wait_time = 15\n",
    "            resume_time = datetime.fromtimestamp( int(response.headers[\"x-rate-limit-reset\"]) + buffer_wait_time )\n",
    "            print(f\"One request from being rate limited. Waiting on Twitter.\\n\\tResume Time: {resume_time}\")\n",
    "            diff = (resume_time - datetime.today()).seconds\n",
    "            time.sleep(diff)\n",
    "            return\n",
    "        \n",
    "        if response.ok:\n",
    "            return response"
   ]
  },
  {
   "cell_type": "markdown",
   "id": "cdc6676f",
   "metadata": {},
   "source": [
    "# load influencer name and get influencers info"
   ]
  },
  {
   "cell_type": "code",
   "execution_count": 14,
   "id": "65b1767c",
   "metadata": {},
   "outputs": [
    {
     "ename": "IndexError",
     "evalue": "list index out of range",
     "output_type": "error",
     "traceback": [
      "\u001b[0;31m---------------------------------------------------------------------------\u001b[0m",
      "\u001b[0;31mIndexError\u001b[0m                                Traceback (most recent call last)",
      "\u001b[0;32m<ipython-input-14-c337624086fb>\u001b[0m in \u001b[0;36m<module>\u001b[0;34m\u001b[0m\n\u001b[1;32m      5\u001b[0m \u001b[0mdata\u001b[0m \u001b[0;34m=\u001b[0m \u001b[0mjson\u001b[0m\u001b[0;34m.\u001b[0m\u001b[0mload\u001b[0m\u001b[0;34m(\u001b[0m\u001b[0mf\u001b[0m\u001b[0;34m)\u001b[0m\u001b[0;34m\u001b[0m\u001b[0;34m\u001b[0m\u001b[0m\n\u001b[1;32m      6\u001b[0m \u001b[0muser_list1\u001b[0m \u001b[0;34m=\u001b[0m \u001b[0mdata\u001b[0m\u001b[0;34m[\u001b[0m\u001b[0;36m0\u001b[0m\u001b[0;34m]\u001b[0m\u001b[0;34m.\u001b[0m\u001b[0mget\u001b[0m\u001b[0;34m(\u001b[0m\u001b[0;34m'nick'\u001b[0m\u001b[0;34m)\u001b[0m\u001b[0;34m.\u001b[0m\u001b[0mreplace\u001b[0m\u001b[0;34m(\u001b[0m\u001b[0;34m'@'\u001b[0m\u001b[0;34m,\u001b[0m\u001b[0;34m''\u001b[0m\u001b[0;34m)\u001b[0m\u001b[0;34m\u001b[0m\u001b[0;34m\u001b[0m\u001b[0m\n\u001b[0;32m----> 7\u001b[0;31m \u001b[0muser_list2\u001b[0m \u001b[0;34m=\u001b[0m \u001b[0mdata\u001b[0m\u001b[0;34m[\u001b[0m\u001b[0;36m100\u001b[0m\u001b[0;34m]\u001b[0m\u001b[0;34m.\u001b[0m\u001b[0mget\u001b[0m\u001b[0;34m(\u001b[0m\u001b[0;34m'nick'\u001b[0m\u001b[0;34m)\u001b[0m\u001b[0;34m.\u001b[0m\u001b[0mreplace\u001b[0m\u001b[0;34m(\u001b[0m\u001b[0;34m'@'\u001b[0m\u001b[0;34m,\u001b[0m\u001b[0;34m''\u001b[0m\u001b[0;34m)\u001b[0m\u001b[0;34m\u001b[0m\u001b[0;34m\u001b[0m\u001b[0m\n\u001b[0m\u001b[1;32m      8\u001b[0m \u001b[0mcount\u001b[0m \u001b[0;34m=\u001b[0m \u001b[0;36m0\u001b[0m\u001b[0;34m\u001b[0m\u001b[0;34m\u001b[0m\u001b[0m\n\u001b[1;32m      9\u001b[0m \u001b[0;32mfor\u001b[0m \u001b[0mi\u001b[0m \u001b[0;32min\u001b[0m \u001b[0mdata\u001b[0m\u001b[0;34m[\u001b[0m\u001b[0;36m1\u001b[0m\u001b[0;34m:\u001b[0m\u001b[0;34m]\u001b[0m\u001b[0;34m:\u001b[0m\u001b[0;34m\u001b[0m\u001b[0;34m\u001b[0m\u001b[0m\n",
      "\u001b[0;31mIndexError\u001b[0m: list index out of range"
     ]
    }
   ],
   "source": [
    "# Opening json file\n",
    "f = open('btc_influencers.json')\n",
    "  \n",
    "# returns JSON object as a dictionary\n",
    "data = json.load(f)\n",
    "user_list1 = data[0].get('nick').replace('@','')\n",
    "user_list2 = data[100].get('nick').replace('@','')\n",
    "count = 0\n",
    "for i in data[1:]:\n",
    "    # can only request for 100 user info at a time\n",
    "    if count<99:\n",
    "        user_list1 = user_list1 + ',' + (i.get('nick').replace('@',''))\n",
    "    if count>100:\n",
    "        user_list2 = user_list2 + ',' + (i.get('nick').replace('@',''))\n",
    "    count += 1\n",
    "# Closing file\n",
    "f.close()"
   ]
  },
  {
   "cell_type": "code",
   "execution_count": 12,
   "id": "21b27905",
   "metadata": {},
   "outputs": [
    {
     "ename": "NameError",
     "evalue": "name 'user_list1' is not defined",
     "output_type": "error",
     "traceback": [
      "\u001b[0;31m---------------------------------------------------------------------------\u001b[0m",
      "\u001b[0;31mNameError\u001b[0m                                 Traceback (most recent call last)",
      "\u001b[0;32m<ipython-input-12-f6a064f5960e>\u001b[0m in \u001b[0;36m<module>\u001b[0;34m\u001b[0m\n\u001b[1;32m      2\u001b[0m \u001b[0mbearer_token\u001b[0m \u001b[0;34m=\u001b[0m \u001b[0mauth\u001b[0m\u001b[0;34m(\u001b[0m\u001b[0;34m)\u001b[0m\u001b[0;34m\u001b[0m\u001b[0;34m\u001b[0m\u001b[0m\n\u001b[1;32m      3\u001b[0m \u001b[0mheaders\u001b[0m \u001b[0;34m=\u001b[0m \u001b[0mcreate_headers\u001b[0m\u001b[0;34m(\u001b[0m\u001b[0mbearer_token\u001b[0m\u001b[0;34m)\u001b[0m\u001b[0;34m\u001b[0m\u001b[0;34m\u001b[0m\u001b[0m\n\u001b[0;32m----> 4\u001b[0;31m \u001b[0muser_url1\u001b[0m \u001b[0;34m=\u001b[0m \u001b[0mcreate_user_url\u001b[0m\u001b[0;34m(\u001b[0m\u001b[0muser_list1\u001b[0m\u001b[0;34m)\u001b[0m\u001b[0;34m\u001b[0m\u001b[0;34m\u001b[0m\u001b[0m\n\u001b[0m\u001b[1;32m      5\u001b[0m \u001b[0muser_response1\u001b[0m \u001b[0;34m=\u001b[0m \u001b[0mconnect_to_endpoint\u001b[0m\u001b[0;34m(\u001b[0m\u001b[0muser_url1\u001b[0m\u001b[0;34m[\u001b[0m\u001b[0;36m0\u001b[0m\u001b[0;34m]\u001b[0m\u001b[0;34m,\u001b[0m \u001b[0mheaders\u001b[0m\u001b[0;34m,\u001b[0m \u001b[0muser_url1\u001b[0m\u001b[0;34m[\u001b[0m\u001b[0;36m1\u001b[0m\u001b[0;34m]\u001b[0m\u001b[0;34m)\u001b[0m\u001b[0;34m\u001b[0m\u001b[0;34m\u001b[0m\u001b[0m\n\u001b[1;32m      6\u001b[0m \u001b[0muser_url2\u001b[0m \u001b[0;34m=\u001b[0m \u001b[0mcreate_user_url\u001b[0m\u001b[0;34m(\u001b[0m\u001b[0muser_list2\u001b[0m\u001b[0;34m)\u001b[0m\u001b[0;34m\u001b[0m\u001b[0;34m\u001b[0m\u001b[0m\n",
      "\u001b[0;31mNameError\u001b[0m: name 'user_list1' is not defined"
     ]
    }
   ],
   "source": [
    "# Get influencers info\n",
    "bearer_token = auth()\n",
    "headers = create_headers(bearer_token)\n",
    "user_url1 = create_user_url(user_list1)\n",
    "user_response1 = connect_to_endpoint(user_url1[0], headers, user_url1[1])\n",
    "user_url2 = create_user_url(user_list2)\n",
    "user_response2 = connect_to_endpoint(user_url2[0], headers, user_url2[1])"
   ]
  },
  {
   "cell_type": "code",
   "execution_count": 42,
   "id": "9671b9e8",
   "metadata": {},
   "outputs": [],
   "source": [
    "# Save as csv\n",
    "df = pd.DataFrame(user_response1['data'])\n",
    "df = pd.concat([df, pd.DataFrame(user_response2['data'])], ignore_index=True)\n",
    "followers_count = []\n",
    "tweet_count = []\n",
    "for i in range(df.shape[0]):\n",
    "    followers_count.append(df['public_metrics'][i]['followers_count'])\n",
    "    tweet_count.append(df['public_metrics'][i]['tweet_count'])\n",
    "df['followers_count'] = followers_count\n",
    "df['tweet_count'] = tweet_count\n",
    "df.drop(columns=['public_metrics'], inplace = True)\n",
    "df.rename(columns = {'id': 'related_user_id','created_at':'joined_time'}, inplace=True)\n",
    "df.to_csv('user_data.csv')"
   ]
  },
  {
   "cell_type": "code",
   "execution_count": 43,
   "id": "2a9451c3",
   "metadata": {},
   "outputs": [
    {
     "data": {
      "text/html": [
       "<div>\n",
       "<style scoped>\n",
       "    .dataframe tbody tr th:only-of-type {\n",
       "        vertical-align: middle;\n",
       "    }\n",
       "\n",
       "    .dataframe tbody tr th {\n",
       "        vertical-align: top;\n",
       "    }\n",
       "\n",
       "    .dataframe thead th {\n",
       "        text-align: right;\n",
       "    }\n",
       "</style>\n",
       "<table border=\"1\" class=\"dataframe\">\n",
       "  <thead>\n",
       "    <tr style=\"text-align: right;\">\n",
       "      <th></th>\n",
       "      <th>name</th>\n",
       "      <th>joined_time</th>\n",
       "      <th>username</th>\n",
       "      <th>related_user_id</th>\n",
       "      <th>followers_count</th>\n",
       "      <th>tweet_count</th>\n",
       "    </tr>\n",
       "  </thead>\n",
       "  <tbody>\n",
       "    <tr>\n",
       "      <th>0</th>\n",
       "      <td>Pomp 🌪</td>\n",
       "      <td>2011-07-20T14:43:36.000Z</td>\n",
       "      <td>APompliano</td>\n",
       "      <td>339061487</td>\n",
       "      <td>1613887</td>\n",
       "      <td>64419</td>\n",
       "    </tr>\n",
       "    <tr>\n",
       "      <th>1</th>\n",
       "      <td>Ty Smith</td>\n",
       "      <td>2018-02-09T14:33:52.000Z</td>\n",
       "      <td>TyDanielSmith</td>\n",
       "      <td>961971412528517120</td>\n",
       "      <td>21257</td>\n",
       "      <td>4954</td>\n",
       "    </tr>\n",
       "    <tr>\n",
       "      <th>2</th>\n",
       "      <td>Tone Vays</td>\n",
       "      <td>2014-06-20T02:28:08.000Z</td>\n",
       "      <td>ToneVays</td>\n",
       "      <td>2577886615</td>\n",
       "      <td>280067</td>\n",
       "      <td>24946</td>\n",
       "    </tr>\n",
       "    <tr>\n",
       "      <th>3</th>\n",
       "      <td>Tyler Winklevoss</td>\n",
       "      <td>2009-03-13T18:31:13.000Z</td>\n",
       "      <td>tyler</td>\n",
       "      <td>24222556</td>\n",
       "      <td>1052335</td>\n",
       "      <td>12439</td>\n",
       "    </tr>\n",
       "    <tr>\n",
       "      <th>4</th>\n",
       "      <td>vitalik.eth</td>\n",
       "      <td>2011-05-08T16:03:03.000Z</td>\n",
       "      <td>VitalikButerin</td>\n",
       "      <td>295218901</td>\n",
       "      <td>3874335</td>\n",
       "      <td>17325</td>\n",
       "    </tr>\n",
       "  </tbody>\n",
       "</table>\n",
       "</div>"
      ],
      "text/plain": [
       "               name               joined_time        username  \\\n",
       "0            Pomp 🌪  2011-07-20T14:43:36.000Z      APompliano   \n",
       "1          Ty Smith  2018-02-09T14:33:52.000Z   TyDanielSmith   \n",
       "2         Tone Vays  2014-06-20T02:28:08.000Z        ToneVays   \n",
       "3  Tyler Winklevoss  2009-03-13T18:31:13.000Z           tyler   \n",
       "4       vitalik.eth  2011-05-08T16:03:03.000Z  VitalikButerin   \n",
       "\n",
       "      related_user_id  followers_count  tweet_count  \n",
       "0           339061487          1613887        64419  \n",
       "1  961971412528517120            21257         4954  \n",
       "2          2577886615           280067        24946  \n",
       "3            24222556          1052335        12439  \n",
       "4           295218901          3874335        17325  "
      ]
     },
     "execution_count": 43,
     "metadata": {},
     "output_type": "execute_result"
    }
   ],
   "source": [
    "df.head()"
   ]
  },
  {
   "cell_type": "markdown",
   "id": "79a042eb",
   "metadata": {},
   "source": [
    "# Extract data and store as csv"
   ]
  },
  {
   "cell_type": "code",
   "execution_count": 12,
   "id": "9fe6371d",
   "metadata": {},
   "outputs": [],
   "source": [
    "keywords = 'btc OR BTC OR Btc OR xbt OR XBT OR bitcoin OR bitcoins OR BITCOIN OR Bitcoin'\n",
    "bearer_token = auth()\n",
    "headers = create_headers(bearer_token)\n",
    "output_path='twitter_data.csv'\n",
    "today = datetime.date.today()\n",
    "start_time = (today - datetime.timedelta(weeks=4)).strftime(format='%Y-%m-%dT00:00:00.000Z')\n",
    "end_time = (today - datetime.timedelta(days=4)).strftime(format='%Y-%m-%dT00:00:00.000Z')\n",
    "end_time_url = today.strftime(format='%Y-%m-%dT00:00:00.000Z')"
   ]
  },
  {
   "cell_type": "code",
   "execution_count": 15,
   "id": "ea9da874",
   "metadata": {},
   "outputs": [
    {
     "name": "stdout",
     "output_type": "stream",
     "text": [
      "Endpoint Response Code: 200\n"
     ]
    }
   ],
   "source": [
    "tweets_url = create_keyword_url(keywords, username, 500, start_time, end_time)\n",
    "tweets_response = connect_to_endpoint(tweets_url[0], headers, tweets_url[1])"
   ]
  },
  {
   "cell_type": "code",
   "execution_count": null,
   "id": "af7baddb",
   "metadata": {},
   "outputs": [],
   "source": [
    "def extract_data(keywords, username, user_id, start_time, end_time, end_time_url):\n",
    "    \n",
    "    # extract tweets\n",
    "    tweets_url = create_keyword_url(keywords, username, 500, start_time, end_time)\n",
    "    tweets_response = connect_to_endpoint(tweets_url[0], headers, tweets_url[1])\n",
    "    tweets_df = pd.DataFrame(tweets_response['data'])\n",
    "    count = tweets_response['meta']['result_count']\n",
    "\n",
    "    # if number exceed 500, ask for more response\n",
    "    if 'next_token' in tweets_response['meta']:\n",
    "        next_token = tweets_response['meta']['next_token']\n",
    "        while next_token is not None:\n",
    "            tweets_url = create_keyword_url(keywords, username, 500, start_time, end_time)\n",
    "            tweets_response = connect_to_endpoint(tweets_url[0], headers, tweets_url[1],next_token = next_token)\n",
    "            if 'next_token' in tweets_response['meta']:\n",
    "                next_token = tweets_response['meta']['next_token']\n",
    "                count += tweets_response['meta']['result_count']\n",
    "                tweets_df = pd.concat([tweets_df, pd.DataFrame(tweets_response['data'])], ignore_index=True)\n",
    "            else: \n",
    "                count += tweets_response['meta']['result_count']\n",
    "                tweets_df = pd.concat([tweets_df, pd.DataFrame(tweets_response['data'])], ignore_index=True)\n",
    "                break\n",
    "\n",
    "    print(\"Finish\")\n",
    "\n",
    "    retweet_count = []\n",
    "    reply_count = []\n",
    "    like_count = []\n",
    "    quote_count = []\n",
    "    for i in range(tweets_df.shape[0]):\n",
    "        retweet_count.append(tweets_df['public_metrics'][i]['retweet_count'])\n",
    "        reply_count.append(tweets_df['public_metrics'][i]['reply_count'])\n",
    "        like_count.append(tweets_df['public_metrics'][i]['like_count'])\n",
    "        quote_count.append(tweets_df['public_metrics'][i]['quote_count'])\n",
    "    tweets_df['retweet_count'] = retweet_count\n",
    "    tweets_df['reply_count'] = reply_count\n",
    "    tweets_df['like_count'] = like_count\n",
    "    tweets_df['quote_count'] = quote_count\n",
    "    tweets_df.drop(columns=['public_metrics','id'], inplace = True)\n",
    "    tweets_df['is_reply_to_user'] = 0   # 0 means original tweets, 1 means replies\n",
    "    tweets_df['related_user_id'] = user_id\n",
    "\n",
    "    tweets_df.to_csv(output_path, mode='w', header = True, index = False)\n",
    "    \n",
    "#----------------------------------------------------------------------------------------------------------------------------------------- \n",
    "    # Extract replies for each tweet\n",
    "    loop = tweets_df.shape[0]\n",
    "    for i in range(loop):\n",
    "        print('Present progress: '+ str((i+1)) + ' out of ' + str(loop))\n",
    "\n",
    "        # check rate limit\n",
    "        url = create_rate_url()\n",
    "        status_response = requests.request(\"GET\",url[0], headers = headers, params = url[1])\n",
    "        if not status_response.ok:\n",
    "            manage_rate_limits(status_response)\n",
    "\n",
    "        # get tweet replies\n",
    "        conversation_id = tweets_df.iloc[i]['conversation_id']\n",
    "        to_user = tweets_df.iloc[i]['related_user_id']\n",
    "\n",
    "        replies_url = create_reply_url(to_user, conversation_id, 300, start_time, end_time_url)\n",
    "        replies_response = connect_to_endpoint(replies_url[0], headers, replies_url[1])\n",
    "        if 'data' in replies_response:\n",
    "            replies_df = pd.DataFrame(replies_response['data'])\n",
    "        else:\n",
    "            time.sleep(1)\n",
    "            continue\n",
    "\n",
    "        likes = []\n",
    "        for j in range(replies_df.shape[0]):\n",
    "            likes.append(replies_df['public_metrics'][j]['like_count'])\n",
    "        replies_df['like_count'] = likes\n",
    "\n",
    "        replies_df.sort_values(by = 'like_count', ascending=False, inplace=True)\n",
    "        if replies_df.shape[0] > 10:\n",
    "            replies_df = replies_df[:10]\n",
    "        replies_df.drop(columns=['public_metrics','id'], inplace = True)\n",
    "        replies_df['is_reply_to_user'] = 1   # 0 means original tweets, 1 means replies\n",
    "        replies_df.rename(columns = {'in_reply_to_user_id': 'related_user_id'}, inplace=True)\n",
    "        replies_df = replies_df.reindex(columns=tweets_df.columns)\n",
    "        replies_df.to_csv(output_path, mode='a', index = False, header = False)\n",
    "\n",
    "        time.sleep(1) # make sure not to touch rate limit\n",
    "\n",
    "        # combine it with tweets_df\n",
    "        # tweets_df = pd.concat([tweets_df, replies_df], ignore_index=True)\n",
    "\n",
    "    # tweets_df['user_name'] = username"
   ]
  },
  {
   "cell_type": "code",
   "execution_count": null,
   "id": "e3506bc6",
   "metadata": {},
   "outputs": [],
   "source": [
    "\n"
   ]
  }
 ],
 "metadata": {
  "interpreter": {
   "hash": "aee8b7b246df8f9039afb4144a1f6fd8d2ca17a180786b69acc140d282b71a49"
  },
  "kernelspec": {
   "display_name": "Python 3.9.10 64-bit",
   "language": "python",
   "name": "python3"
  },
  "language_info": {
   "codemirror_mode": {
    "name": "ipython",
    "version": 3
   },
   "file_extension": ".py",
   "mimetype": "text/x-python",
   "name": "python",
   "nbconvert_exporter": "python",
   "pygments_lexer": "ipython3",
   "version": "3.9.10"
  }
 },
 "nbformat": 4,
 "nbformat_minor": 5
}
