{
 "cells": [
  {
   "cell_type": "code",
   "execution_count": 2,
   "metadata": {},
   "outputs": [
    {
     "name": "stdout",
     "output_type": "stream",
     "text": [
      "Collecting bitfinex-tencars\n",
      "  Downloading bitfinex_tencars-0.0.3-py3-none-any.whl (7.6 kB)\n",
      "Installing collected packages: bitfinex-tencars\n",
      "Successfully installed bitfinex-tencars-0.0.3\n"
     ]
    }
   ],
   "source": [
    "!pip install bitfinex-tencars"
   ]
  },
  {
   "cell_type": "code",
   "execution_count": 1,
   "metadata": {
    "pycharm": {
     "name": "#%%\n"
    }
   },
   "outputs": [],
   "source": [
    "import bitfinex\n",
    "import pandas as pd\n",
    "import numpy as np\n",
    "import datetime\n",
    "import time\n",
    "import os\n",
    "\n",
    "import matplotlib.pyplot as plt\n"
   ]
  },
  {
   "cell_type": "code",
   "execution_count": 2,
   "metadata": {
    "pycharm": {
     "name": "#%%\n"
    }
   },
   "outputs": [],
   "source": [
    "def fetch_data(start=1364767200000, stop=1545346740000, symbol='btcusd', interval='1m', tick_limit=1000, step=60000000):\n",
    "    # Create api instance\n",
    "    api_v2 = bitfinex.bitfinex_v2.api_v2()\n",
    "\n",
    "    data = []\n",
    "    start = start - step\n",
    "    while start < stop:\n",
    "        try:\n",
    "\n",
    "            start = start + step\n",
    "            end = start + step\n",
    "            res = api_v2.candles(symbol=symbol, interval=interval, limit=tick_limit, start=start, end=end)\n",
    "            data.extend(res)\n",
    "            print('Retrieving data from {} to {} for {}'.format(pd.to_datetime(start, unit='ms'),\n",
    "                                                                pd.to_datetime(end, unit='ms'), symbol))\n",
    "            time.sleep(60/90)\n",
    "        except: pass\n",
    "    return data"
   ]
  },
  {
   "cell_type": "code",
   "execution_count": 3,
   "metadata": {
    "pycharm": {
     "name": "#%%\n"
    },
    "scrolled": true
   },
   "outputs": [
    {
     "name": "stdout",
     "output_type": "stream",
     "text": [
      "No keys, only access to public API functions\n",
      "No keys, only access to public API functions\n",
      "Retrieving data from 2022-04-23 22:00:00 to 2022-04-24 14:40:00 for BTCUSD\n",
      "Retrieving data from 2022-04-24 14:40:00 to 2022-04-25 07:20:00 for BTCUSD\n",
      "Retrieving data from 2022-04-25 07:20:00 to 2022-04-26 00:00:00 for BTCUSD\n",
      "Retrieving data from 2022-04-26 00:00:00 to 2022-04-26 16:40:00 for BTCUSD\n",
      "Retrieving data from 2022-04-26 16:40:00 to 2022-04-27 09:20:00 for BTCUSD\n",
      "Retrieving data from 2022-04-27 09:20:00 to 2022-04-28 02:00:00 for BTCUSD\n",
      "Retrieving data from 2022-04-28 02:00:00 to 2022-04-28 18:40:00 for BTCUSD\n",
      "Retrieving data from 2022-04-28 18:40:00 to 2022-04-29 11:20:00 for BTCUSD\n",
      "Retrieving data from 2022-04-29 11:20:00 to 2022-04-30 04:00:00 for BTCUSD\n",
      "Retrieving data from 2022-04-30 04:00:00 to 2022-04-30 20:40:00 for BTCUSD\n",
      "Retrieving data from 2022-04-30 20:40:00 to 2022-05-01 13:20:00 for BTCUSD\n",
      "Retrieving data from 2022-05-01 13:20:00 to 2022-05-02 06:00:00 for BTCUSD\n",
      "Retrieving data from 2022-05-02 06:00:00 to 2022-05-02 22:40:00 for BTCUSD\n",
      "Retrieving data from 2022-05-02 22:40:00 to 2022-05-03 15:20:00 for BTCUSD\n",
      "Retrieving data from 2022-05-03 15:20:00 to 2022-05-04 08:00:00 for BTCUSD\n",
      "Retrieving data from 2022-05-04 08:00:00 to 2022-05-05 00:40:00 for BTCUSD\n",
      "Retrieving data from 2022-05-05 00:40:00 to 2022-05-05 17:20:00 for BTCUSD\n",
      "Retrieving data from 2022-05-05 17:20:00 to 2022-05-06 10:00:00 for BTCUSD\n",
      "Retrieving data from 2022-05-06 10:00:00 to 2022-05-07 02:40:00 for BTCUSD\n",
      "Retrieving data from 2022-05-07 02:40:00 to 2022-05-07 19:20:00 for BTCUSD\n",
      "Retrieving data from 2022-05-07 19:20:00 to 2022-05-08 12:00:00 for BTCUSD\n",
      "Retrieving data from 2022-05-08 12:00:00 to 2022-05-09 04:40:00 for BTCUSD\n",
      "Retrieving data from 2022-05-09 04:40:00 to 2022-05-09 21:20:00 for BTCUSD\n",
      "Retrieving data from 2022-05-09 21:20:00 to 2022-05-10 14:00:00 for BTCUSD\n",
      "Retrieving data from 2022-05-10 14:00:00 to 2022-05-11 06:40:00 for BTCUSD\n",
      "Retrieving data from 2022-05-11 06:40:00 to 2022-05-11 23:20:00 for BTCUSD\n",
      "Retrieving data from 2022-05-11 23:20:00 to 2022-05-12 16:00:00 for BTCUSD\n",
      "Retrieving data from 2022-05-12 16:00:00 to 2022-05-13 08:40:00 for BTCUSD\n",
      "Retrieving data from 2022-05-13 08:40:00 to 2022-05-14 01:20:00 for BTCUSD\n",
      "Retrieving data from 2022-05-14 01:20:00 to 2022-05-14 18:00:00 for BTCUSD\n",
      "Retrieving data from 2022-05-14 18:00:00 to 2022-05-15 10:40:00 for BTCUSD\n",
      "Retrieving data from 2022-05-15 10:40:00 to 2022-05-16 03:20:00 for BTCUSD\n",
      "Retrieving data from 2022-05-16 03:20:00 to 2022-05-16 20:00:00 for BTCUSD\n",
      "Retrieving data from 2022-05-16 20:00:00 to 2022-05-17 12:40:00 for BTCUSD\n",
      "Retrieving data from 2022-05-17 12:40:00 to 2022-05-18 05:20:00 for BTCUSD\n",
      "Retrieving data from 2022-05-18 05:20:00 to 2022-05-18 22:00:00 for BTCUSD\n",
      "Retrieving data from 2022-05-18 22:00:00 to 2022-05-19 14:40:00 for BTCUSD\n",
      "Retrieving data from 2022-05-19 14:40:00 to 2022-05-20 07:20:00 for BTCUSD\n",
      "Retrieving data from 2022-05-20 07:20:00 to 2022-05-21 00:00:00 for BTCUSD\n",
      "Retrieving data from 2022-05-21 00:00:00 to 2022-05-21 16:40:00 for BTCUSD\n",
      "Retrieving data from 2022-05-21 16:40:00 to 2022-05-22 09:20:00 for BTCUSD\n",
      "Retrieving data from 2022-05-22 09:20:00 to 2022-05-23 02:00:00 for BTCUSD\n",
      "Retrieving data from 2022-05-23 02:00:00 to 2022-05-23 18:40:00 for BTCUSD\n",
      "Retrieving data from 2022-05-23 18:40:00 to 2022-05-24 11:20:00 for BTCUSD\n",
      "Retrieving data from 2022-05-24 11:20:00 to 2022-05-25 04:00:00 for BTCUSD\n",
      "(43948, 5)\n"
     ]
    }
   ],
   "source": [
    "pair = 'BTCUSD' # What is the currency pair we are interested in\n",
    "bin_size = '1m' # This is the resolution at which we request the data\n",
    "limit = 1000 # How many data points per call are we asking for\n",
    "time_step = 1000 * 60 * limit # From the above calulate the size of each sub querry\n",
    "\n",
    "# Fill in the start and end time of interest and convert it to timestamps\n",
    "t_start = datetime.datetime(2022, 4, 24, 0, 0)\n",
    "t_start = time.mktime(t_start.timetuple()) * 1000\n",
    "\n",
    "t_stop = datetime.datetime(2022, 5, 23, 23, 59)\n",
    "#t_stop = datetime.datetime.now()\n",
    "t_stop = time.mktime(t_stop.timetuple()) * 1000\n",
    "\n",
    "# Create an bitfinex_api instance\n",
    "api_v1 = bitfinex.bitfinex_v1.api_v1()\n",
    "\n",
    "# Collect the data\n",
    "pair_data = fetch_data(start=t_start, stop=t_stop, symbol=pair, interval=bin_size, tick_limit=limit, step=time_step)\n",
    "\n",
    "ind = [np.ndim(x) != 0 for x in pair_data]\n",
    "pair_data = [i for (i, v) in zip(pair_data, ind) if v]\n",
    "\n",
    "# Create pandas data frame and clean data\n",
    "names = ['time', 'open', 'close', 'high', 'low', 'volume']\n",
    "df = pd.DataFrame(pair_data, columns=names)\n",
    "df.drop_duplicates(inplace=True)\n",
    "df.set_index('time', inplace=True)\n",
    "df.index = pd.to_datetime(df.index, unit='ms')\n",
    "df.sort_index(inplace=True)\n",
    "print(df.shape)"
   ]
  },
  {
   "cell_type": "code",
   "execution_count": 6,
   "metadata": {},
   "outputs": [],
   "source": [
    "df.to_csv('bitcoin_minutely_data.csv')"
   ]
  },
  {
   "cell_type": "code",
   "execution_count": 134,
   "metadata": {
    "pycharm": {
     "name": "#%%\n"
    }
   },
   "outputs": [],
   "source": [
    "# data = pd.read_csv('bitstampUSD_1-min_data_2012-01-01_to_2021-03-31.csv')\n",
    "# data.index = pd.to_datetime(data['Timestamp'], unit='s')\n",
    "# data.drop(labels='Timestamp', axis=1, inplace=True)"
   ]
  },
  {
   "cell_type": "code",
   "execution_count": 135,
   "metadata": {
    "pycharm": {
     "name": "#%%\n"
    }
   },
   "outputs": [],
   "source": [
    "# #data['ret'] = data['Close'].pct_change()\n",
    "# data['Volume'] = data['Volume_(BTC)']\n",
    "# data.drop('Volume_(BTC)', axis=1, inplace=True)\n",
    "# data.drop(labels='Weighted_Price', axis=1, inplace=True)"
   ]
  },
  {
   "cell_type": "code",
   "execution_count": 136,
   "metadata": {
    "pycharm": {
     "name": "#%%\n"
    }
   },
   "outputs": [
    {
     "name": "stdout",
     "output_type": "stream",
     "text": [
      "2021-03-13 20:41:00\n",
      "2016-06-23 12:36:00\n"
     ]
    }
   ],
   "source": [
    "# mask = data.index >= '2015-01-01'\n",
    "# data = data[mask]\n",
    "# print(data.index[data['Close'].argmax()])\n",
    "# print(data.index[data['Close'].argmin()])"
   ]
  },
  {
   "cell_type": "code",
   "execution_count": 137,
   "metadata": {
    "pycharm": {
     "name": "#%%\n"
    }
   },
   "outputs": [
    {
     "name": "stdout",
     "output_type": "stream",
     "text": [
      "Timestamp\n",
      "2016-06-23 12:35:00    588.56\n",
      "2016-06-23 12:36:00    588.56\n",
      "2016-06-23 12:37:00    584.06\n",
      "Name: Close, dtype: float64\n"
     ]
    }
   ],
   "source": [
    "# error = data['Close'].argmin()\n",
    "# data['Close'][error] = data['Close'][error-1]\n",
    "# print(data['Close'][error-1:error+2])"
   ]
  },
  {
   "cell_type": "code",
   "execution_count": 139,
   "metadata": {
    "pycharm": {
     "name": "#%%\n"
    }
   },
   "outputs": [],
   "source": [
    "# data.to_csv('BTCUSD_1m_2015_01_01_now.csv')"
   ]
  },
  {
   "cell_type": "code",
   "execution_count": null,
   "metadata": {
    "pycharm": {
     "name": "#%%\n"
    }
   },
   "outputs": [],
   "source": []
  }
 ],
 "metadata": {
  "kernelspec": {
   "display_name": "Python 3",
   "language": "python",
   "name": "python3"
  },
  "language_info": {
   "codemirror_mode": {
    "name": "ipython",
    "version": 3
   },
   "file_extension": ".py",
   "mimetype": "text/x-python",
   "name": "python",
   "nbconvert_exporter": "python",
   "pygments_lexer": "ipython3",
   "version": "3.8.8"
  }
 },
 "nbformat": 4,
 "nbformat_minor": 1
}
