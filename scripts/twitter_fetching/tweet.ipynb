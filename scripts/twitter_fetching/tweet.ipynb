{
 "cells": [
  {
   "cell_type": "code",
   "execution_count": 1,
   "id": "d536a46b",
   "metadata": {},
   "outputs": [],
   "source": [
    "# For sending GET requests from the API\n",
    "import requests\n",
    "# For saving access tokens and for file management when creating and adding to the dataset\n",
    "import os\n",
    "# For dealing with json responses we receive from the API\n",
    "import json\n",
    "# For displaying the data after<\n",
    "import pandas as pd\n",
    "# For saving the response data in CSV format\n",
    "import csv\n",
    "# For parsing the dates received from twitter in readable formats\n",
    "import numpy as np\n",
    "from datetime import datetime\n",
    "import time"
   ]
  },
  {
   "cell_type": "markdown",
   "id": "f796ad7c",
   "metadata": {},
   "source": [
    "# Set up"
   ]
  },
  {
   "cell_type": "code",
   "execution_count": 2,
   "id": "0924571c",
   "metadata": {},
   "outputs": [],
   "source": [
    "os.environ['TOKEN'] = 'AAAAAAAAAAAAAAAAAAAAAKHzbwEAAAAANrBlqwYokl3ttFARZ4ZmiSD7Bw0%3DRa8THgCyIJMa416ckXp3dLfyC4JgfsugJPgLkRT802r0hynEoy'"
   ]
  },
  {
   "cell_type": "code",
   "execution_count": 3,
   "id": "18ed025d",
   "metadata": {},
   "outputs": [],
   "source": [
    "def auth():\n",
    "    return os.getenv('TOKEN')"
   ]
  },
  {
   "cell_type": "code",
   "execution_count": 4,
   "id": "5e26cf49",
   "metadata": {},
   "outputs": [],
   "source": [
    "def create_headers(bearer_token):\n",
    "    headers = {\"Authorization\": \"Bearer {}\".format(bearer_token)}\n",
    "    return headers"
   ]
  },
  {
   "cell_type": "code",
   "execution_count": 6,
   "id": "19c08701",
   "metadata": {},
   "outputs": [],
   "source": [
    "# Search user information\n",
    "def create_user_url(name_list):\n",
    "    \"\"\"\n",
    "    name_list: a string in form of 'xx1,xx2,xx3'\n",
    "    \"\"\"\n",
    "    \n",
    "    search_url = \"https://api.twitter.com/2/users/by\" # User information\n",
    "\n",
    "    #change params based on the endpoint you are using\n",
    "    query_params = {'usernames': name_list,\n",
    "                     'user.fields': 'created_at,public_metrics'}\n",
    "    return (search_url, query_params)"
   ]
  },
  {
   "cell_type": "code",
   "execution_count": null,
   "id": "e3abfd4d",
   "metadata": {},
   "outputs": [],
   "source": [
    "# # no need, tweets from a specific user\n",
    "# def create_tweet_url(ID, start_time, end_time, max_result):\n",
    "    \n",
    "#     search_url = \"https://api.twitter.com/2/users/\"+ID+\"/tweets\" # Tweets information\n",
    "\n",
    "#     #change params based on the endpoint you are using\n",
    "#     query_params = {'start_time':start_time,\n",
    "#                     'end_time': end_time,\n",
    "#                     'max_results': max_result,\n",
    "# #                     'exclude': 'retweets,replies',\n",
    "#                     'tweet.fields': 'created_at,public_metrics,conversation_id'}\n",
    "#     return (search_url, query_params)\n"
   ]
  },
  {
   "cell_type": "code",
   "execution_count": 5,
   "id": "2fb8b565",
   "metadata": {},
   "outputs": [],
   "source": [
    "# Search tweets based on keyword and username\n",
    "def create_keyword_url(keyword, user_name, max_results):\n",
    "    \"\"\"\n",
    "    keyword: a string in form of 'xx OR xx OR xx'\n",
    "    user_name: a string in form of 'xxx OR xxx OR xxx'\n",
    "    max_results: number of return\n",
    "    \"\"\"\n",
    "    \n",
    "    search_url = \"https://api.twitter.com/2/tweets/search/all\" # Tweets information\n",
    "\n",
    "    #change params based on the endpoint you are using\n",
    "    query_params = {'query': '(' + keyword + ') ('+'from:'+ user_name + ')' + ' -is:reply' + ' lang:en',\n",
    "                    'start_time': '2021-05-15T00:00:00.000Z',\n",
    "                    'end_time': '2022-05-15T00:00:00.000Z',\n",
    "                    'max_results': max_results,\n",
    "                   'tweet.fields': 'created_at,public_metrics,conversation_id'}\n",
    "\n",
    "    return (search_url, query_params)"
   ]
  },
  {
   "cell_type": "code",
   "execution_count": 21,
   "id": "602eec08",
   "metadata": {},
   "outputs": [],
   "source": [
    "# Search replies of a specific tweet\n",
    "def create_reply_url(to_user, conversation_id, max_results):\n",
    "    \"\"\"\n",
    "    to_user: the user who tweet\n",
    "    conversation_id: the conversation_id of the tweet\n",
    "    max_result: number of return\n",
    "    \"\"\"\n",
    "    \n",
    "    \n",
    "    search_url = \"https://api.twitter.com/2/tweets/search/all\" # Tweets information\n",
    "\n",
    "    #change params based on the endpoint you are using\n",
    "    query_params = {'query': '(conversation_id:'+ conversation_id + ') ( ' + 'to:' + to_user + ')' ,\n",
    "                    'max_results': max_results,\n",
    "                    'start_time': '2021-05-15T00:00:00.000Z',\n",
    "                    'end_time': '2022-05-16T00:00:00.000Z',              # one day extension of replies\n",
    "                    'expansions': 'in_reply_to_user_id',\n",
    "                   'tweet.fields': 'created_at,public_metrics,conversation_id'}\n",
    "    return (search_url, query_params)"
   ]
  },
  {
   "cell_type": "code",
   "execution_count": 6,
   "id": "fce55adb",
   "metadata": {},
   "outputs": [],
   "source": [
    "def connect_to_endpoint(url, headers, params, next_token = None):\n",
    "    params['next_token'] = next_token   #params object received from create_url function\n",
    "    response = requests.request(\"GET\", url, headers = headers, params = params)\n",
    "    print(\"Endpoint Response Code: \" + str(response.status_code))\n",
    "    if response.status_code != 200:\n",
    "        raise Exception(response.status_code, response.text)\n",
    "    return response.json()"
   ]
  },
  {
   "cell_type": "code",
   "execution_count": 114,
   "id": "2e268728",
   "metadata": {},
   "outputs": [],
   "source": [
    "def create_rate_url():\n",
    "    search_url = \"https://api.twitter.com/1.1/application/rate_limit_status.json\"\n",
    "    query_params = {'resources' : 'help,users,search,statuses'}\n",
    "    return (search_url, query_params)"
   ]
  },
  {
   "cell_type": "code",
   "execution_count": 186,
   "id": "68a8ed34",
   "metadata": {},
   "outputs": [],
   "source": [
    "def manage_rate_limits(response):\n",
    "    while True:\n",
    "\n",
    "        # Get number of requests left with our tokens\n",
    "        remaining_requests = int(response.headers[\"x-rate-limit-remaining\"])\n",
    "\n",
    "        # If that number is one, we get the reset-time and wait until then, plus 15 seconds.\n",
    "        if remaining_requests == 1:\n",
    "            buffer_wait_time = 15\n",
    "            resume_time = datetime.fromtimestamp( int(response.headers[\"x-rate-limit-reset\"]) + buffer_wait_time )\n",
    "            print(f\"One request from being rate limited. Waiting on Twitter.\\n\\tResume Time: {resume_time}\")\n",
    "            diff = (resume_time - datetime.today()).seconds\n",
    "            time.sleep(diff)\n",
    "            return\n",
    "        \n",
    "        if response.ok:\n",
    "            return response"
   ]
  },
  {
   "cell_type": "markdown",
   "id": "868d1f7f",
   "metadata": {},
   "source": [
    "# load influencer name and get influencers info"
   ]
  },
  {
   "cell_type": "code",
   "execution_count": null,
   "id": "54f60b2f",
   "metadata": {},
   "outputs": [],
   "source": [
    "# Opening json file\n",
    "f = open('btc_influencers.json')\n",
    "  \n",
    "# returns JSON object as a dictionary\n",
    "data = json.load(f)\n",
    "user_list = data[0].get('nick').replace('@','')\n",
    "\n",
    "for i in data[1:10]:\n",
    "    # can only request for 100 user info at a time\n",
    "    user_list = user_list + ',' + (i.get('nick').replace('@',''))\n",
    "  \n",
    "# Closing file\n",
    "f.close()"
   ]
  },
  {
   "cell_type": "code",
   "execution_count": null,
   "id": "09a5dbb3",
   "metadata": {},
   "outputs": [],
   "source": [
    "# Get influencers info\n",
    "bearer_token = auth()\n",
    "headers = create_headers(bearer_token)\n",
    "url = create_user_url(user_list)\n",
    "json_response = connect_to_endpoint(url[0], headers, url[1])\n",
    "# print(json.dumps(json_response, indent=4, sort_keys=True))"
   ]
  },
  {
   "cell_type": "code",
   "execution_count": null,
   "id": "cce6e3da",
   "metadata": {
    "scrolled": true
   },
   "outputs": [],
   "source": [
    "# Save as csv\n",
    "df = pd.DataFrame(json_response['data'])\n",
    "followers_count = []\n",
    "tweet_count = []\n",
    "for i in range(df.shape[0]):\n",
    "    followers_count.append(df['public_metrics'][i]['followers_count'])\n",
    "    tweet_count.append(df['public_metrics'][i]['tweet_count'])\n",
    "df['followers_count'] = followers_count\n",
    "df['tweet_count'] = tweet_count\n",
    "df.drop(columns=['public_metrics'], inplace = True)\n",
    "df.head()\n",
    "# df.to_csv('data.csv')"
   ]
  },
  {
   "cell_type": "markdown",
   "id": "5f37f060",
   "metadata": {},
   "source": [
    "# Get tweets based on username and keyword"
   ]
  },
  {
   "cell_type": "code",
   "execution_count": null,
   "id": "4ea7b8c0",
   "metadata": {
    "scrolled": true
   },
   "outputs": [],
   "source": [
    "# start_time = \"2022-05-01T07:55:00.000Z\"\n",
    "# end_time = \"2022-05-13T23:10:00.000Z\"\n",
    "# max_result = 5\n",
    "# ID = '2577886615'\n",
    "# url2 = create_tweet_url(ID, start_time, end_time, max_result)\n",
    "# json_response2 = connect_to_endpoint(url2[0], headers, url2[1])\n",
    "# print(json.dumps(json_response2, indent=4, sort_keys=True))"
   ]
  },
  {
   "cell_type": "code",
   "execution_count": null,
   "id": "6b20f0b7",
   "metadata": {
    "scrolled": true
   },
   "outputs": [],
   "source": [
    "# # save as csv\n",
    "# df = pd.DataFrame(json_response2['data'])\n",
    "# retweet_count = []\n",
    "# reply_count = []\n",
    "# like_count = []\n",
    "# quote_count = []\n",
    "# for i in range(df.shape[0]):\n",
    "#     retweet_count.append(df['public_metrics'][i]['retweet_count'])\n",
    "#     reply_count.append(df['public_metrics'][i]['reply_count'])\n",
    "#     like_count.append(df['public_metrics'][i]['like_count'])\n",
    "#     quote_count.append(df['public_metrics'][i]['quote_count'])\n",
    "# df['retweet_count'] = retweet_count\n",
    "# df['reply_count'] = reply_count\n",
    "# df['like_count'] = like_count\n",
    "# df['quote_count'] = quote_count\n",
    "# df.drop(columns=['public_metrics'], inplace = True)\n",
    "# # s\n",
    "# # # df.to_csv('data.csv')\n",
    "# df"
   ]
  },
  {
   "cell_type": "code",
   "execution_count": null,
   "id": "4927ac1e",
   "metadata": {
    "scrolled": true
   },
   "outputs": [],
   "source": [
    "# Extract tweets with given keyword and user name\n",
    "bearer_token = auth()\n",
    "headers = create_headers(bearer_token)\n",
    "keyword = 'BTC OR Bitcoin'\n",
    "user_name = 'Bitcoin'\n",
    "max_results = 15\n",
    "url3 = create_keyword_url(keyword,user_name, max_results)\n",
    "json_response3 = connect_to_endpoint(url3[0], headers, url3[1])\n",
    "# print(json.dumps(json_response3, indent=4, sort_keys=True))\n",
    "pd.DataFrame(json_response3['data'])"
   ]
  },
  {
   "cell_type": "markdown",
   "id": "edfb3ad9",
   "metadata": {},
   "source": [
    "# Get replies from a specific tweet and sorted"
   ]
  },
  {
   "cell_type": "code",
   "execution_count": null,
   "id": "20ef201b",
   "metadata": {
    "scrolled": true
   },
   "outputs": [],
   "source": [
    "bearer_token = auth()\n",
    "headers = create_headers(bearer_token)\n",
    "to_user = '2577886615'\n",
    "conversation_id = '1525212367382007809'\n",
    "max_results = 10\n",
    "url4 = create_reply_url(to_user, conversation_id, max_results)\n",
    "json_response4 = connect_to_endpoint(url4[0], headers, url4[1])\n",
    "print(json.dumps(json_response4, indent=4, sort_keys=True))"
   ]
  },
  {
   "cell_type": "code",
   "execution_count": null,
   "id": "e8187616",
   "metadata": {},
   "outputs": [],
   "source": [
    "df = pd.DataFrame(json_response4['data'])\n",
    "likes = []\n",
    "for i in range(df.shape[0]):\n",
    "    likes.append(df['public_metrics'][i]['like_count'])\n",
    "df['like_count'] = likes\n",
    "df.sort_values(by = 'like_count', ascending=False)"
   ]
  },
  {
   "cell_type": "markdown",
   "id": "d01bdf26",
   "metadata": {},
   "source": [
    "# Extract data and store as csv"
   ]
  },
  {
   "cell_type": "code",
   "execution_count": 149,
   "id": "40a28269",
   "metadata": {},
   "outputs": [
    {
     "name": "stdout",
     "output_type": "stream",
     "text": [
      "Endpoint Response Code: 200\n"
     ]
    }
   ],
   "source": [
    "keywords = 'btc OR BTC OR Btc OR xbt OR XBT OR bitcoin OR bitcoins OR BITCOIN OR Bitcoin'\n",
    "bearer_token = auth()\n",
    "headers = create_headers(bearer_token)\n",
    "output_path='twitter_data.csv'\n",
    "\n",
    "\n",
    "# user info\n",
    "username = 'APompliano'\n",
    "user_url = create_user_url(username)\n",
    "user_response = connect_to_endpoint(user_url[0], headers, user_url[1])\n",
    "user_info = pd.DataFrame(user_response['data'])"
   ]
  },
  {
   "cell_type": "code",
   "execution_count": 167,
   "id": "b0eeff8a",
   "metadata": {
    "scrolled": true
   },
   "outputs": [
    {
     "name": "stdout",
     "output_type": "stream",
     "text": [
      "Endpoint Response Code: 200\n",
      "Endpoint Response Code: 200\n",
      "Endpoint Response Code: 200\n",
      "Endpoint Response Code: 200\n",
      "Finish\n"
     ]
    }
   ],
   "source": [
    "# extract tweets\n",
    "tweets_url = create_keyword_url(keywords, username, 500)\n",
    "tweets_response = connect_to_endpoint(tweets_url[0], headers, tweets_url[1])\n",
    "tweets_df = pd.DataFrame(tweets_response['data'])\n",
    "count = tweets_response['meta']['result_count']\n",
    "\n",
    "# if number exceed 500\n",
    "if 'next_token' in tweets_response['meta']:\n",
    "    next_token = tweets_response['meta']['next_token']\n",
    "    while next_token is not None:\n",
    "        tweets_url = create_keyword_url(keywords, username, 500)\n",
    "        tweets_response = connect_to_endpoint(tweets_url[0], headers, tweets_url[1],next_token = next_token)\n",
    "        if 'next_token' in tweets_response['meta']:\n",
    "            next_token = tweets_response['meta']['next_token']\n",
    "            count += tweets_response['meta']['result_count']\n",
    "            tweets_df = pd.concat([tweets_df, pd.DataFrame(tweets_response['data'])], ignore_index=True)\n",
    "        else: \n",
    "            count += tweets_response['meta']['result_count']\n",
    "            tweets_df = pd.concat([tweets_df, pd.DataFrame(tweets_response['data'])], ignore_index=True)\n",
    "            break\n",
    "        \n",
    "print(\"Finish\")\n",
    "\n",
    "\n",
    "retweet_count = []\n",
    "reply_count = []\n",
    "like_count = []\n",
    "quote_count = []\n",
    "for i in range(tweets_df.shape[0]):\n",
    "    retweet_count.append(tweets_df['public_metrics'][i]['retweet_count'])\n",
    "    reply_count.append(tweets_df['public_metrics'][i]['reply_count'])\n",
    "    like_count.append(tweets_df['public_metrics'][i]['like_count'])\n",
    "    quote_count.append(tweets_df['public_metrics'][i]['quote_count'])\n",
    "tweets_df['retweet_count'] = retweet_count\n",
    "tweets_df['reply_count'] = reply_count\n",
    "tweets_df['like_count'] = like_count\n",
    "tweets_df['quote_count'] = quote_count\n",
    "tweets_df.drop(columns=['public_metrics','id'], inplace = True)\n",
    "tweets_df['is_reply_to_user'] = 0   # 0 means original tweets, 1 means replies\n",
    "tweets_df['related_user_id'] = user_response['data'][0]['id']\n",
    "\n",
    "tweets_df.to_csv(output_path, mode='w', header = True, index = False)"
   ]
  },
  {
   "cell_type": "code",
   "execution_count": 188,
   "id": "03fa29e2",
   "metadata": {},
   "outputs": [
    {
     "data": {
      "text/plain": [
       "'56'"
      ]
     },
     "execution_count": 188,
     "metadata": {},
     "output_type": "execute_result"
    }
   ],
   "source": [
    "url = create_rate_url()\n",
    "status_response = requests.request(\"GET\",url[0], headers = headers, params = url[1])\n",
    "manage_rate_limits(status_response)\n",
    "status_response.headers['x-rate-limit-remaining']"
   ]
  },
  {
   "cell_type": "code",
   "execution_count": 194,
   "id": "b7c70975",
   "metadata": {
    "scrolled": true
   },
   "outputs": [
    {
     "name": "stdout",
     "output_type": "stream",
     "text": [
      "Present progress: 165 out of 1649\n",
      "Endpoint Response Code: 200\n"
     ]
    }
   ],
   "source": [
    "# Extract replies for each tweet\n",
    "loop = tweets_df.shape[0]\n",
    "for i in range(loop):\n",
    "    print('Present progress: '+ str((i+1)) + ' out of ' + str(loop))\n",
    "    \n",
    "    # check rate limit\n",
    "    url = create_rate_url()\n",
    "    status_response = requests.request(\"GET\",url[0], headers = headers, params = url[1])\n",
    "    manage_rate_limits(status_response)\n",
    "    \n",
    "    # get tweet replies\n",
    "    conversation_id = tweets_df.iloc[i]['conversation_id']\n",
    "    to_user = tweets_df.iloc[i]['related_user_id']\n",
    "    \n",
    "    replies_url = create_reply_url(to_user, conversation_id, 300)\n",
    "    replies_response = connect_to_endpoint(replies_url[0], headers, replies_url[1])\n",
    "    if 'data' in replies_response:\n",
    "        replies_df = pd.DataFrame(replies_response['data'])\n",
    "    else:\n",
    "        time.sleep(1)\n",
    "        continue\n",
    "    \n",
    "    likes = []\n",
    "    for j in range(replies_df.shape[0]):\n",
    "        likes.append(replies_df['public_metrics'][j]['like_count'])\n",
    "    replies_df['like_count'] = likes\n",
    "    \n",
    "    replies_df.sort_values(by = 'like_count', ascending=False, inplace=True)\n",
    "    if replies_df.shape[0] > 10:\n",
    "        replies_df = replies_df[:10]\n",
    "    replies_df.drop(columns=['public_metrics','id'], inplace = True)\n",
    "    replies_df['is_reply_to_user'] = 1   # 0 means original tweets, 1 means replies\n",
    "    replies_df.rename(columns = {'in_reply_to_user_id': 'related_user_id'}, inplace=True)\n",
    "    replies_df = replies_df.reindex(columns=tweets_df.columns)\n",
    "    replies_df.to_csv(output_path, mode='a', index = False, header = False)\n",
    "    \n",
    "    time.sleep(1) # make sure not to touch rate limit\n",
    "    \n",
    "    # combine it with tweets_df\n",
    "    # tweets_df = pd.concat([tweets_df, replies_df], ignore_index=True)\n",
    "\n",
    "# tweets_df['user_name'] = username\n",
    "\n"
   ]
  },
  {
   "cell_type": "markdown",
   "id": "5387a650",
   "metadata": {},
   "source": [
    "# Test"
   ]
  },
  {
   "cell_type": "code",
   "execution_count": 51,
   "id": "ca04d8b8",
   "metadata": {},
   "outputs": [
    {
     "data": {
      "text/html": [
       "<div>\n",
       "<style scoped>\n",
       "    .dataframe tbody tr th:only-of-type {\n",
       "        vertical-align: middle;\n",
       "    }\n",
       "\n",
       "    .dataframe tbody tr th {\n",
       "        vertical-align: top;\n",
       "    }\n",
       "\n",
       "    .dataframe thead th {\n",
       "        text-align: right;\n",
       "    }\n",
       "</style>\n",
       "<table border=\"1\" class=\"dataframe\">\n",
       "  <thead>\n",
       "    <tr style=\"text-align: right;\">\n",
       "      <th></th>\n",
       "      <th>text</th>\n",
       "      <th>created_at</th>\n",
       "      <th>conversation_id</th>\n",
       "      <th>retweet_count</th>\n",
       "      <th>reply_count</th>\n",
       "      <th>like_count</th>\n",
       "      <th>quote_count</th>\n",
       "      <th>is_reply_to_user</th>\n",
       "      <th>related_user_id</th>\n",
       "    </tr>\n",
       "  </thead>\n",
       "  <tbody>\n",
       "    <tr>\n",
       "      <th>1682</th>\n",
       "      <td>@APompliano #Bitcoinhalf is taking over #Crypt...</td>\n",
       "      <td>2022-05-13T13:30:52.000Z</td>\n",
       "      <td>1525106011849347078</td>\n",
       "      <td>NaN</td>\n",
       "      <td>NaN</td>\n",
       "      <td>6</td>\n",
       "      <td>NaN</td>\n",
       "      <td>1</td>\n",
       "      <td>339061487</td>\n",
       "    </tr>\n",
       "    <tr>\n",
       "      <th>1683</th>\n",
       "      <td>@APompliano Hey Pomp,\\n\\nCryptos only seem to ...</td>\n",
       "      <td>2022-05-13T14:24:03.000Z</td>\n",
       "      <td>1525106011849347078</td>\n",
       "      <td>NaN</td>\n",
       "      <td>NaN</td>\n",
       "      <td>5</td>\n",
       "      <td>NaN</td>\n",
       "      <td>1</td>\n",
       "      <td>339061487</td>\n",
       "    </tr>\n",
       "    <tr>\n",
       "      <th>1684</th>\n",
       "      <td>@APompliano You have the chops to be inducted ...</td>\n",
       "      <td>2022-05-13T13:34:03.000Z</td>\n",
       "      <td>1525106011849347078</td>\n",
       "      <td>NaN</td>\n",
       "      <td>NaN</td>\n",
       "      <td>4</td>\n",
       "      <td>NaN</td>\n",
       "      <td>1</td>\n",
       "      <td>339061487</td>\n",
       "    </tr>\n",
       "    <tr>\n",
       "      <th>1685</th>\n",
       "      <td>@APompliano 💥 Do you hold?\\n\\n⏳ tin­y­u­­r­l­....</td>\n",
       "      <td>2022-05-13T13:30:15.000Z</td>\n",
       "      <td>1525106011849347078</td>\n",
       "      <td>NaN</td>\n",
       "      <td>NaN</td>\n",
       "      <td>4</td>\n",
       "      <td>NaN</td>\n",
       "      <td>1</td>\n",
       "      <td>339061487</td>\n",
       "    </tr>\n",
       "    <tr>\n",
       "      <th>1686</th>\n",
       "      <td>@APompliano #omc #omchain @omChainio</td>\n",
       "      <td>2022-05-13T17:49:52.000Z</td>\n",
       "      <td>1525106011849347078</td>\n",
       "      <td>NaN</td>\n",
       "      <td>NaN</td>\n",
       "      <td>3</td>\n",
       "      <td>NaN</td>\n",
       "      <td>1</td>\n",
       "      <td>339061487</td>\n",
       "    </tr>\n",
       "    <tr>\n",
       "      <th>1687</th>\n",
       "      <td>@APompliano Great job! outstanding consistency 👏</td>\n",
       "      <td>2022-05-13T13:30:33.000Z</td>\n",
       "      <td>1525106011849347078</td>\n",
       "      <td>NaN</td>\n",
       "      <td>NaN</td>\n",
       "      <td>3</td>\n",
       "      <td>NaN</td>\n",
       "      <td>1</td>\n",
       "      <td>339061487</td>\n",
       "    </tr>\n",
       "    <tr>\n",
       "      <th>1688</th>\n",
       "      <td>@APompliano Who’s the ghost writer?</td>\n",
       "      <td>2022-05-13T13:31:52.000Z</td>\n",
       "      <td>1525106011849347078</td>\n",
       "      <td>NaN</td>\n",
       "      <td>NaN</td>\n",
       "      <td>3</td>\n",
       "      <td>NaN</td>\n",
       "      <td>1</td>\n",
       "      <td>339061487</td>\n",
       "    </tr>\n",
       "    <tr>\n",
       "      <th>1689</th>\n",
       "      <td>@APompliano 🙌🏻🙌🏻 something I look forward to e...</td>\n",
       "      <td>2022-05-13T13:31:47.000Z</td>\n",
       "      <td>1525106011849347078</td>\n",
       "      <td>NaN</td>\n",
       "      <td>NaN</td>\n",
       "      <td>2</td>\n",
       "      <td>NaN</td>\n",
       "      <td>1</td>\n",
       "      <td>339061487</td>\n",
       "    </tr>\n",
       "    <tr>\n",
       "      <th>1690</th>\n",
       "      <td>@APompliano It’s been pretty good for me too…t...</td>\n",
       "      <td>2022-05-13T13:30:22.000Z</td>\n",
       "      <td>1525106011849347078</td>\n",
       "      <td>NaN</td>\n",
       "      <td>NaN</td>\n",
       "      <td>2</td>\n",
       "      <td>NaN</td>\n",
       "      <td>1</td>\n",
       "      <td>339061487</td>\n",
       "    </tr>\n",
       "    <tr>\n",
       "      <th>1691</th>\n",
       "      <td>@APompliano been listening to your podcast for...</td>\n",
       "      <td>2022-05-13T13:32:21.000Z</td>\n",
       "      <td>1525106011849347078</td>\n",
       "      <td>NaN</td>\n",
       "      <td>NaN</td>\n",
       "      <td>2</td>\n",
       "      <td>NaN</td>\n",
       "      <td>1</td>\n",
       "      <td>339061487</td>\n",
       "    </tr>\n",
       "  </tbody>\n",
       "</table>\n",
       "</div>"
      ],
      "text/plain": [
       "                                                   text  \\\n",
       "1682  @APompliano #Bitcoinhalf is taking over #Crypt...   \n",
       "1683  @APompliano Hey Pomp,\\n\\nCryptos only seem to ...   \n",
       "1684  @APompliano You have the chops to be inducted ...   \n",
       "1685  @APompliano 💥 Do you hold?\\n\\n⏳ tin­y­u­­r­l­....   \n",
       "1686               @APompliano #omc #omchain @omChainio   \n",
       "1687   @APompliano Great job! outstanding consistency 👏   \n",
       "1688                @APompliano Who’s the ghost writer?   \n",
       "1689  @APompliano 🙌🏻🙌🏻 something I look forward to e...   \n",
       "1690  @APompliano It’s been pretty good for me too…t...   \n",
       "1691  @APompliano been listening to your podcast for...   \n",
       "\n",
       "                    created_at      conversation_id  retweet_count  \\\n",
       "1682  2022-05-13T13:30:52.000Z  1525106011849347078            NaN   \n",
       "1683  2022-05-13T14:24:03.000Z  1525106011849347078            NaN   \n",
       "1684  2022-05-13T13:34:03.000Z  1525106011849347078            NaN   \n",
       "1685  2022-05-13T13:30:15.000Z  1525106011849347078            NaN   \n",
       "1686  2022-05-13T17:49:52.000Z  1525106011849347078            NaN   \n",
       "1687  2022-05-13T13:30:33.000Z  1525106011849347078            NaN   \n",
       "1688  2022-05-13T13:31:52.000Z  1525106011849347078            NaN   \n",
       "1689  2022-05-13T13:31:47.000Z  1525106011849347078            NaN   \n",
       "1690  2022-05-13T13:30:22.000Z  1525106011849347078            NaN   \n",
       "1691  2022-05-13T13:32:21.000Z  1525106011849347078            NaN   \n",
       "\n",
       "      reply_count  like_count  quote_count  is_reply_to_user related_user_id  \n",
       "1682          NaN           6          NaN                 1       339061487  \n",
       "1683          NaN           5          NaN                 1       339061487  \n",
       "1684          NaN           4          NaN                 1       339061487  \n",
       "1685          NaN           4          NaN                 1       339061487  \n",
       "1686          NaN           3          NaN                 1       339061487  \n",
       "1687          NaN           3          NaN                 1       339061487  \n",
       "1688          NaN           3          NaN                 1       339061487  \n",
       "1689          NaN           2          NaN                 1       339061487  \n",
       "1690          NaN           2          NaN                 1       339061487  \n",
       "1691          NaN           2          NaN                 1       339061487  "
      ]
     },
     "execution_count": 51,
     "metadata": {},
     "output_type": "execute_result"
    }
   ],
   "source": [
    "tweets_df[-10:]"
   ]
  },
  {
   "cell_type": "code",
   "execution_count": null,
   "id": "eba72214",
   "metadata": {
    "scrolled": false
   },
   "outputs": [],
   "source": [
    "followers_count = []\n",
    "tweet_count = []\n",
    "for i in range(df.shape[0]):\n",
    "    followers_count.append(df['public_metrics'][i]['followers_count'])\n",
    "    tweet_count.append(df['public_metrics'][i]['tweet_count'])\n",
    "df['followers_count'] = followers_count\n",
    "df['tweet_count'] = tweet_count\n",
    "df.drop(columns=['public_metrics'], inplace = True)"
   ]
  },
  {
   "cell_type": "code",
   "execution_count": 180,
   "id": "ef8ff627",
   "metadata": {},
   "outputs": [],
   "source": [
    "url = \"https://api.twitter.com/1.1/application/rate_limit_status.json?x-rate-limit-reset\"\n",
    "r = requests.request(\"GET\",url, headers = headers)\n",
    "int(r.headers['x-rate-limit-reset'])\n",
    "s = datetime.fromtimestamp( int(r.headers[\"x-rate-limit-reset\"]))"
   ]
  },
  {
   "cell_type": "code",
   "execution_count": 124,
   "id": "8b6f0951",
   "metadata": {},
   "outputs": [
    {
     "data": {
      "text/plain": [
       "'175'"
      ]
     },
     "execution_count": 124,
     "metadata": {},
     "output_type": "execute_result"
    }
   ],
   "source": [
    "url = create_rate_url()\n",
    "status_response = requests.request(\"GET\",url[0], headers = headers, params = url[1])\n",
    "status_response.headers['x-rate-limit-remaining']"
   ]
  },
  {
   "cell_type": "code",
   "execution_count": 161,
   "id": "3139483c",
   "metadata": {},
   "outputs": [
    {
     "data": {
      "text/html": [
       "<div>\n",
       "<style scoped>\n",
       "    .dataframe tbody tr th:only-of-type {\n",
       "        vertical-align: middle;\n",
       "    }\n",
       "\n",
       "    .dataframe tbody tr th {\n",
       "        vertical-align: top;\n",
       "    }\n",
       "\n",
       "    .dataframe thead th {\n",
       "        text-align: right;\n",
       "    }\n",
       "</style>\n",
       "<table border=\"1\" class=\"dataframe\">\n",
       "  <thead>\n",
       "    <tr style=\"text-align: right;\">\n",
       "      <th></th>\n",
       "      <th>created_at</th>\n",
       "      <th>text</th>\n",
       "      <th>conversation_id</th>\n",
       "      <th>retweet_count</th>\n",
       "      <th>reply_count</th>\n",
       "      <th>like_count</th>\n",
       "      <th>quote_count</th>\n",
       "      <th>is_reply_to_user</th>\n",
       "      <th>related_user_id</th>\n",
       "    </tr>\n",
       "  </thead>\n",
       "  <tbody>\n",
       "    <tr>\n",
       "      <th>0</th>\n",
       "      <td>2022-05-14T23:03:27.000Z</td>\n",
       "      <td>If your long term conviction of bitcoin’s valu...</td>\n",
       "      <td>1525612785375264768</td>\n",
       "      <td>374</td>\n",
       "      <td>191</td>\n",
       "      <td>2527</td>\n",
       "      <td>42</td>\n",
       "      <td>0</td>\n",
       "      <td>339061487</td>\n",
       "    </tr>\n",
       "    <tr>\n",
       "      <th>1</th>\n",
       "      <td>2022-05-14T14:57:17.000Z</td>\n",
       "      <td>We have helped nearly 1,000 people get a new j...</td>\n",
       "      <td>1525490438093799424</td>\n",
       "      <td>49</td>\n",
       "      <td>79</td>\n",
       "      <td>332</td>\n",
       "      <td>4</td>\n",
       "      <td>0</td>\n",
       "      <td>339061487</td>\n",
       "    </tr>\n",
       "    <tr>\n",
       "      <th>2</th>\n",
       "      <td>2022-05-13T21:58:59.000Z</td>\n",
       "      <td>Bitcoin is the best first principles solution ...</td>\n",
       "      <td>1525234174046658565</td>\n",
       "      <td>210</td>\n",
       "      <td>226</td>\n",
       "      <td>1381</td>\n",
       "      <td>24</td>\n",
       "      <td>0</td>\n",
       "      <td>339061487</td>\n",
       "    </tr>\n",
       "    <tr>\n",
       "      <th>3</th>\n",
       "      <td>2022-05-13T13:29:42.000Z</td>\n",
       "      <td>I have officially been writing a letter on tec...</td>\n",
       "      <td>1525106011849347078</td>\n",
       "      <td>34</td>\n",
       "      <td>94</td>\n",
       "      <td>372</td>\n",
       "      <td>3</td>\n",
       "      <td>0</td>\n",
       "      <td>339061487</td>\n",
       "    </tr>\n",
       "    <tr>\n",
       "      <th>4</th>\n",
       "      <td>2022-05-13T02:48:56.000Z</td>\n",
       "      <td>[NEW POST] Some Thoughts On LUNA / UST\\n\\n\"The...</td>\n",
       "      <td>1524944753753735178</td>\n",
       "      <td>97</td>\n",
       "      <td>188</td>\n",
       "      <td>634</td>\n",
       "      <td>14</td>\n",
       "      <td>0</td>\n",
       "      <td>339061487</td>\n",
       "    </tr>\n",
       "    <tr>\n",
       "      <th>...</th>\n",
       "      <td>...</td>\n",
       "      <td>...</td>\n",
       "      <td>...</td>\n",
       "      <td>...</td>\n",
       "      <td>...</td>\n",
       "      <td>...</td>\n",
       "      <td>...</td>\n",
       "      <td>...</td>\n",
       "      <td>...</td>\n",
       "    </tr>\n",
       "    <tr>\n",
       "      <th>1647</th>\n",
       "      <td>2021-05-16T01:59:27.000Z</td>\n",
       "      <td>The anti-bitcoin crowd used to be Keynesian ec...</td>\n",
       "      <td>1393747894939815936</td>\n",
       "      <td>777</td>\n",
       "      <td>355</td>\n",
       "      <td>6107</td>\n",
       "      <td>55</td>\n",
       "      <td>0</td>\n",
       "      <td>339061487</td>\n",
       "    </tr>\n",
       "    <tr>\n",
       "      <th>1648</th>\n",
       "      <td>2021-05-16T00:02:12.000Z</td>\n",
       "      <td>RT @APompliano: Here is today’s video breaking...</td>\n",
       "      <td>1393718389361762314</td>\n",
       "      <td>116</td>\n",
       "      <td>0</td>\n",
       "      <td>0</td>\n",
       "      <td>0</td>\n",
       "      <td>0</td>\n",
       "      <td>339061487</td>\n",
       "    </tr>\n",
       "    <tr>\n",
       "      <th>1649</th>\n",
       "      <td>2021-05-15T17:52:53.000Z</td>\n",
       "      <td>Stock market closed.\\n\\nBanks closed.\\n\\nBitco...</td>\n",
       "      <td>1393625445938118660</td>\n",
       "      <td>952</td>\n",
       "      <td>551</td>\n",
       "      <td>11766</td>\n",
       "      <td>72</td>\n",
       "      <td>0</td>\n",
       "      <td>339061487</td>\n",
       "    </tr>\n",
       "    <tr>\n",
       "      <th>1650</th>\n",
       "      <td>2021-05-15T13:54:46.000Z</td>\n",
       "      <td>Bitcoin is the ultimate long term thinking.</td>\n",
       "      <td>1393565524911665156</td>\n",
       "      <td>404</td>\n",
       "      <td>357</td>\n",
       "      <td>5878</td>\n",
       "      <td>38</td>\n",
       "      <td>0</td>\n",
       "      <td>339061487</td>\n",
       "    </tr>\n",
       "    <tr>\n",
       "      <th>1651</th>\n",
       "      <td>2021-05-15T13:30:33.000Z</td>\n",
       "      <td>Here is today’s video breaking down the play-b...</td>\n",
       "      <td>1393559429182894083</td>\n",
       "      <td>116</td>\n",
       "      <td>78</td>\n",
       "      <td>790</td>\n",
       "      <td>13</td>\n",
       "      <td>0</td>\n",
       "      <td>339061487</td>\n",
       "    </tr>\n",
       "  </tbody>\n",
       "</table>\n",
       "<p>1652 rows × 9 columns</p>\n",
       "</div>"
      ],
      "text/plain": [
       "                    created_at  \\\n",
       "0     2022-05-14T23:03:27.000Z   \n",
       "1     2022-05-14T14:57:17.000Z   \n",
       "2     2022-05-13T21:58:59.000Z   \n",
       "3     2022-05-13T13:29:42.000Z   \n",
       "4     2022-05-13T02:48:56.000Z   \n",
       "...                        ...   \n",
       "1647  2021-05-16T01:59:27.000Z   \n",
       "1648  2021-05-16T00:02:12.000Z   \n",
       "1649  2021-05-15T17:52:53.000Z   \n",
       "1650  2021-05-15T13:54:46.000Z   \n",
       "1651  2021-05-15T13:30:33.000Z   \n",
       "\n",
       "                                                   text      conversation_id  \\\n",
       "0     If your long term conviction of bitcoin’s valu...  1525612785375264768   \n",
       "1     We have helped nearly 1,000 people get a new j...  1525490438093799424   \n",
       "2     Bitcoin is the best first principles solution ...  1525234174046658565   \n",
       "3     I have officially been writing a letter on tec...  1525106011849347078   \n",
       "4     [NEW POST] Some Thoughts On LUNA / UST\\n\\n\"The...  1524944753753735178   \n",
       "...                                                 ...                  ...   \n",
       "1647  The anti-bitcoin crowd used to be Keynesian ec...  1393747894939815936   \n",
       "1648  RT @APompliano: Here is today’s video breaking...  1393718389361762314   \n",
       "1649  Stock market closed.\\n\\nBanks closed.\\n\\nBitco...  1393625445938118660   \n",
       "1650        Bitcoin is the ultimate long term thinking.  1393565524911665156   \n",
       "1651  Here is today’s video breaking down the play-b...  1393559429182894083   \n",
       "\n",
       "      retweet_count  reply_count  like_count  quote_count  is_reply_to_user  \\\n",
       "0               374          191        2527           42                 0   \n",
       "1                49           79         332            4                 0   \n",
       "2               210          226        1381           24                 0   \n",
       "3                34           94         372            3                 0   \n",
       "4                97          188         634           14                 0   \n",
       "...             ...          ...         ...          ...               ...   \n",
       "1647            777          355        6107           55                 0   \n",
       "1648            116            0           0            0                 0   \n",
       "1649            952          551       11766           72                 0   \n",
       "1650            404          357        5878           38                 0   \n",
       "1651            116           78         790           13                 0   \n",
       "\n",
       "     related_user_id  \n",
       "0          339061487  \n",
       "1          339061487  \n",
       "2          339061487  \n",
       "3          339061487  \n",
       "4          339061487  \n",
       "...              ...  \n",
       "1647       339061487  \n",
       "1648       339061487  \n",
       "1649       339061487  \n",
       "1650       339061487  \n",
       "1651       339061487  \n",
       "\n",
       "[1652 rows x 9 columns]"
      ]
     },
     "execution_count": 161,
     "metadata": {},
     "output_type": "execute_result"
    }
   ],
   "source": [
    "tweets_df"
   ]
  },
  {
   "cell_type": "code",
   "execution_count": 197,
   "id": "f3880b71",
   "metadata": {},
   "outputs": [
    {
     "data": {
      "text/plain": [
       "(16720, 9)"
      ]
     },
     "execution_count": 197,
     "metadata": {},
     "output_type": "execute_result"
    }
   ],
   "source": [
    "data = pd.read_csv('twitter_data.csv')\n",
    "data.shape"
   ]
  },
  {
   "cell_type": "code",
   "execution_count": null,
   "id": "b675c112",
   "metadata": {},
   "outputs": [],
   "source": []
  }
 ],
 "metadata": {
  "interpreter": {
   "hash": "aee8b7b246df8f9039afb4144a1f6fd8d2ca17a180786b69acc140d282b71a49"
  },
  "kernelspec": {
   "display_name": "Python 3.9.10 64-bit",
   "language": "python",
   "name": "python3"
  },
  "language_info": {
   "codemirror_mode": {
    "name": "ipython",
    "version": 3
   },
   "file_extension": ".py",
   "mimetype": "text/x-python",
   "name": "python",
   "nbconvert_exporter": "python",
   "pygments_lexer": "ipython3",
   "version": "3.9.10"
  }
 },
 "nbformat": 4,
 "nbformat_minor": 5
}
