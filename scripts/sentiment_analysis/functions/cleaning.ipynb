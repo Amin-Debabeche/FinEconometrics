{
 "cells": [
  {
   "cell_type": "code",
   "execution_count": 575,
   "metadata": {},
   "outputs": [],
   "source": [
    "import os\n",
    "import re\n",
    "import pandas as pd\n",
    "from time import time\n",
    "from datetime import datetime, timedelta\n",
    "import numpy as np\n",
    "import nltk\n",
    "import spacy\n",
    "import seaborn as sns\n",
    "import matplotlib.pyplot as plt\n",
    "from tqdm import tqdm"
   ]
  },
  {
   "cell_type": "code",
   "execution_count": 286,
   "metadata": {},
   "outputs": [],
   "source": [
    "RANDOM_SEED = 7\n",
    "DATA_DIR = \"../../../data/\"\n",
    "INTERM_DIR = '../compiled_data'\n",
    "\n",
    "twitter_data_path = os.path.join(DATA_DIR, 'tweets/tweets_data_final.csv')\n",
    "replies_data_path = os.path.join(DATA_DIR, 'tweets/replies_data_final.csv')\n",
    "bitcoin_data_path = os.path.join(DATA_DIR, 'bitcoin_price/archive/bitcoin_minutely_data_final.csv')\n",
    "\n",
    "nlp = spacy.load(\"en_core_web_sm\")"
   ]
  },
  {
   "cell_type": "markdown",
   "metadata": {},
   "source": []
  },
  {
   "cell_type": "code",
   "execution_count": 287,
   "metadata": {},
   "outputs": [],
   "source": [
    "#df_total = pd.read_csv(twitter_data_path)\n",
    "#pd.read_csv(bitcoin_data_path)\n"
   ]
  },
  {
   "cell_type": "code",
   "execution_count": 288,
   "metadata": {},
   "outputs": [],
   "source": [
    "def load_twitter_data(data_path, nrows=None, cols=['text', 'conversation_id','created_at', 'retweet_count', 'reply_count', 'like_count','quote_count', 'is_reply_to_user', 'related_user_id',]):\n",
    "    \"Load twitter data, nrows None indicates all rows, otherwise specified integer of rows\"\n",
    "    data = pd.read_csv(data_path, nrows = nrows, delimiter=',', usecols=cols)\n",
    "    data = data[data['text'] != '']\n",
    "    data['created_at'] = pd.to_datetime(data['created_at']).dt.strftime('%Y-%m-%d %H:%M:%S')\n",
    "    return data"
   ]
  },
  {
   "cell_type": "code",
   "execution_count": 654,
   "metadata": {},
   "outputs": [],
   "source": [
    "def load_bitcoin(data_path):\n",
    "    asset = pd.read_csv(data_path)\n",
    "    asset = asset.dropna()\n",
    "    asset['time'] = pd.to_datetime(asset['time'])\n",
    "    #asset[\"log_ret\"] = np.log(asset.prc).diff(1)\n",
    "    return asset #[\"log_ret\"]"
   ]
  },
  {
   "cell_type": "code",
   "execution_count": 666,
   "metadata": {},
   "outputs": [],
   "source": [
    "twitter_df = load_twitter_data(twitter_data_path, 4)\n",
    "replies_df = load_twitter_data(replies_data_path, 4)\n",
    "bitcoin_df = load_bitcoin(bitcoin_data_path)\n",
    "\n"
   ]
  },
  {
   "cell_type": "code",
   "execution_count": 291,
   "metadata": {},
   "outputs": [],
   "source": [
    "total_df = pd.concat([twitter_df, replies_df], ignore_index=True)\n",
    "\n",
    "#total_df.groupby(twitter_df[\"created_at\"].dt.day)[['text']].count().plot(kind=\"bar\")\n",
    "# total_df.groupby(twitter_df[\"created_at\"].apply(lambda x: datetime.datetime.fromisoformat(x)).dt.day)[['text']].count().plot(kind=\"bar\")\n",
    "# Put histogram for two types replies and twitter to see activity difference"
   ]
  },
  {
   "cell_type": "code",
   "execution_count": 292,
   "metadata": {},
   "outputs": [],
   "source": [
    "def rem_url_at(df):\n",
    "    raw = []\n",
    "    for sentence in tqdm(df['text']):\n",
    "        sentence = re.sub('http[s]?://(?:[a-zA-Z]|[0-9]|[$-_@.&+#]|[!*\\(\\),]|'\n",
    "                          '(?:%[0-9a-fA-F][0-9a-fA-F]))+', '', sentence)\n",
    "        sentence = re.sub(\"(@[A-Za-z0-9_]+)\", \"\", sentence)\n",
    "        raw.append(sentence)\n",
    "    df['text'] = raw\n",
    "    return df"
   ]
  },
  {
   "cell_type": "code",
   "execution_count": 293,
   "metadata": {},
   "outputs": [],
   "source": [
    "def tagging(df):\n",
    "    pos,tag,dep,shape = [],[],[],[]\n",
    "    for sentence in tqdm(df['text']):\n",
    "        pos_tmp,tag_tmp,dep_tmp,shape_tmp = [],[],[],[]\n",
    "        for token in nlp(sentence):\n",
    "            pos_tmp.append(token.pos_)\n",
    "            tag_tmp.append(token.tag_)\n",
    "            dep_tmp.append(token.dep_)\n",
    "            shape_tmp.append(token.shape_)\n",
    "        pos.append(pos_tmp)\n",
    "        tag.append(tag_tmp)\n",
    "        dep.append(dep_tmp)\n",
    "        shape.append(shape_tmp)\n",
    "    df['Pos'] = pos\n",
    "    df['Tag'] = tag\n",
    "    df['Dep'] = dep\n",
    "    df['Shape'] = shape\n",
    "    return df"
   ]
  },
  {
   "cell_type": "code",
   "execution_count": 294,
   "metadata": {},
   "outputs": [],
   "source": [
    "def cleaning(df): \n",
    "    df = rem_url_at(df)\n",
    "    df = tagging(df)\n",
    "    df.replace('', np.nan, inplace=True)\n",
    "    #df = df.dropna(how='any', axis=0)\n",
    "    df = df[df['text'].map(\n",
    "        lambda d: len(d)) > 0]\n",
    "    return df"
   ]
  },
  {
   "cell_type": "code",
   "execution_count": 311,
   "metadata": {},
   "outputs": [
    {
     "name": "stderr",
     "output_type": "stream",
     "text": [
      "100%|██████████| 8/8 [00:00<00:00, 58867.42it/s]\n",
      "100%|██████████| 8/8 [00:00<00:00, 90.20it/s]\n"
     ]
    }
   ],
   "source": [
    "total_df = cleaning(total_df)"
   ]
  },
  {
   "cell_type": "code",
   "execution_count": 313,
   "metadata": {},
   "outputs": [
    {
     "data": {
      "text/html": [
       "<div>\n",
       "<style scoped>\n",
       "    .dataframe tbody tr th:only-of-type {\n",
       "        vertical-align: middle;\n",
       "    }\n",
       "\n",
       "    .dataframe tbody tr th {\n",
       "        vertical-align: top;\n",
       "    }\n",
       "\n",
       "    .dataframe thead th {\n",
       "        text-align: right;\n",
       "    }\n",
       "</style>\n",
       "<table border=\"1\" class=\"dataframe\">\n",
       "  <thead>\n",
       "    <tr style=\"text-align: right;\">\n",
       "      <th></th>\n",
       "      <th>text</th>\n",
       "      <th>conversation_id</th>\n",
       "      <th>created_at</th>\n",
       "      <th>retweet_count</th>\n",
       "      <th>reply_count</th>\n",
       "      <th>like_count</th>\n",
       "      <th>quote_count</th>\n",
       "      <th>is_reply_to_user</th>\n",
       "      <th>related_user_id</th>\n",
       "      <th>Pos</th>\n",
       "      <th>Tag</th>\n",
       "      <th>Dep</th>\n",
       "      <th>Shape</th>\n",
       "    </tr>\n",
       "  </thead>\n",
       "  <tbody>\n",
       "    <tr>\n",
       "      <th>0</th>\n",
       "      <td>If your long term conviction of bitcoin’s valu...</td>\n",
       "      <td>1525612785375264768</td>\n",
       "      <td>2022-05-14 23:03:27+00:00</td>\n",
       "      <td>378</td>\n",
       "      <td>196</td>\n",
       "      <td>2546</td>\n",
       "      <td>42</td>\n",
       "      <td>0</td>\n",
       "      <td>339061487</td>\n",
       "      <td>[SCONJ, PRON, ADJ, NOUN, NOUN, ADP, NOUN, PART...</td>\n",
       "      <td>[IN, PRP$, JJ, NN, NN, IN, NN, POS, NN, VBN, I...</td>\n",
       "      <td>[mark, poss, amod, compound, nsubj, prep, nmod...</td>\n",
       "      <td>[Xx, xxxx, xxxx, xxxx, xxxx, xx, xxxx, ’x, xxx...</td>\n",
       "    </tr>\n",
       "    <tr>\n",
       "      <th>1</th>\n",
       "      <td>We have helped nearly 1,000 people get a new j...</td>\n",
       "      <td>1525490438093799424</td>\n",
       "      <td>2022-05-14 14:57:17+00:00</td>\n",
       "      <td>50</td>\n",
       "      <td>87</td>\n",
       "      <td>331</td>\n",
       "      <td>4</td>\n",
       "      <td>0</td>\n",
       "      <td>339061487</td>\n",
       "      <td>[PRON, AUX, VERB, ADV, NUM, NOUN, VERB, DET, A...</td>\n",
       "      <td>[PRP, VBP, VBN, RB, CD, NNS, VBP, DT, JJ, NN, ...</td>\n",
       "      <td>[nsubj, aux, ROOT, advmod, nummod, nsubj, ccom...</td>\n",
       "      <td>[Xx, xxxx, xxxx, xxxx, d,ddd, xxxx, xxx, x, xx...</td>\n",
       "    </tr>\n",
       "    <tr>\n",
       "      <th>2</th>\n",
       "      <td>Bitcoin is the best first principles solution ...</td>\n",
       "      <td>1525234174046658565</td>\n",
       "      <td>2022-05-13 21:58:59+00:00</td>\n",
       "      <td>209</td>\n",
       "      <td>231</td>\n",
       "      <td>1380</td>\n",
       "      <td>24</td>\n",
       "      <td>0</td>\n",
       "      <td>339061487</td>\n",
       "      <td>[PROPN, AUX, DET, ADJ, ADJ, NOUN, NOUN, ADP, A...</td>\n",
       "      <td>[NNP, VBZ, DT, JJS, JJ, NNS, NN, IN, JJ, IN, D...</td>\n",
       "      <td>[nsubj, ROOT, det, amod, amod, compound, attr,...</td>\n",
       "      <td>[Xxxxx, xx, xxx, xxxx, xxxx, xxxx, xxxx, xx, x...</td>\n",
       "    </tr>\n",
       "    <tr>\n",
       "      <th>3</th>\n",
       "      <td>I have officially been writing a letter on tec...</td>\n",
       "      <td>1525106011849347078</td>\n",
       "      <td>2022-05-13 13:29:42+00:00</td>\n",
       "      <td>34</td>\n",
       "      <td>101</td>\n",
       "      <td>373</td>\n",
       "      <td>3</td>\n",
       "      <td>0</td>\n",
       "      <td>339061487</td>\n",
       "      <td>[PRON, AUX, ADV, AUX, VERB, DET, NOUN, ADP, NO...</td>\n",
       "      <td>[PRP, VBP, RB, VBN, VBG, DT, NN, IN, NN, ,, JJ...</td>\n",
       "      <td>[nsubj, aux, advmod, aux, ROOT, det, dobj, pre...</td>\n",
       "      <td>[X, xxxx, xxxx, xxxx, xxxx, x, xxxx, xx, xxxx,...</td>\n",
       "    </tr>\n",
       "    <tr>\n",
       "      <th>4</th>\n",
       "      <td>If the fact the US government can freeze it d...</td>\n",
       "      <td>1525612785375264768</td>\n",
       "      <td>2022-05-14 23:05:38+00:00</td>\n",
       "      <td>0</td>\n",
       "      <td>11</td>\n",
       "      <td>26</td>\n",
       "      <td>0</td>\n",
       "      <td>1</td>\n",
       "      <td>339061487</td>\n",
       "      <td>[SPACE, SCONJ, DET, NOUN, DET, PROPN, NOUN, AU...</td>\n",
       "      <td>[_SP, IN, DT, NN, DT, NNP, NN, MD, VB, PRP, VB...</td>\n",
       "      <td>[dep, mark, det, nsubj, det, compound, nsubj, ...</td>\n",
       "      <td>[ , Xx, xxx, xxxx, xxx, XX, xxxx, xxx, xxxx, x...</td>\n",
       "    </tr>\n",
       "  </tbody>\n",
       "</table>\n",
       "</div>"
      ],
      "text/plain": [
       "                                                text      conversation_id  \\\n",
       "0  If your long term conviction of bitcoin’s valu...  1525612785375264768   \n",
       "1  We have helped nearly 1,000 people get a new j...  1525490438093799424   \n",
       "2  Bitcoin is the best first principles solution ...  1525234174046658565   \n",
       "3  I have officially been writing a letter on tec...  1525106011849347078   \n",
       "4   If the fact the US government can freeze it d...  1525612785375264768   \n",
       "\n",
       "                 created_at  retweet_count  reply_count  like_count  \\\n",
       "0 2022-05-14 23:03:27+00:00            378          196        2546   \n",
       "1 2022-05-14 14:57:17+00:00             50           87         331   \n",
       "2 2022-05-13 21:58:59+00:00            209          231        1380   \n",
       "3 2022-05-13 13:29:42+00:00             34          101         373   \n",
       "4 2022-05-14 23:05:38+00:00              0           11          26   \n",
       "\n",
       "   quote_count  is_reply_to_user  related_user_id  \\\n",
       "0           42                 0        339061487   \n",
       "1            4                 0        339061487   \n",
       "2           24                 0        339061487   \n",
       "3            3                 0        339061487   \n",
       "4            0                 1        339061487   \n",
       "\n",
       "                                                 Pos  \\\n",
       "0  [SCONJ, PRON, ADJ, NOUN, NOUN, ADP, NOUN, PART...   \n",
       "1  [PRON, AUX, VERB, ADV, NUM, NOUN, VERB, DET, A...   \n",
       "2  [PROPN, AUX, DET, ADJ, ADJ, NOUN, NOUN, ADP, A...   \n",
       "3  [PRON, AUX, ADV, AUX, VERB, DET, NOUN, ADP, NO...   \n",
       "4  [SPACE, SCONJ, DET, NOUN, DET, PROPN, NOUN, AU...   \n",
       "\n",
       "                                                 Tag  \\\n",
       "0  [IN, PRP$, JJ, NN, NN, IN, NN, POS, NN, VBN, I...   \n",
       "1  [PRP, VBP, VBN, RB, CD, NNS, VBP, DT, JJ, NN, ...   \n",
       "2  [NNP, VBZ, DT, JJS, JJ, NNS, NN, IN, JJ, IN, D...   \n",
       "3  [PRP, VBP, RB, VBN, VBG, DT, NN, IN, NN, ,, JJ...   \n",
       "4  [_SP, IN, DT, NN, DT, NNP, NN, MD, VB, PRP, VB...   \n",
       "\n",
       "                                                 Dep  \\\n",
       "0  [mark, poss, amod, compound, nsubj, prep, nmod...   \n",
       "1  [nsubj, aux, ROOT, advmod, nummod, nsubj, ccom...   \n",
       "2  [nsubj, ROOT, det, amod, amod, compound, attr,...   \n",
       "3  [nsubj, aux, advmod, aux, ROOT, det, dobj, pre...   \n",
       "4  [dep, mark, det, nsubj, det, compound, nsubj, ...   \n",
       "\n",
       "                                               Shape  \n",
       "0  [Xx, xxxx, xxxx, xxxx, xxxx, xx, xxxx, ’x, xxx...  \n",
       "1  [Xx, xxxx, xxxx, xxxx, d,ddd, xxxx, xxx, x, xx...  \n",
       "2  [Xxxxx, xx, xxx, xxxx, xxxx, xxxx, xxxx, xx, x...  \n",
       "3  [X, xxxx, xxxx, xxxx, xxxx, x, xxxx, xx, xxxx,...  \n",
       "4  [ , Xx, xxx, xxxx, xxx, XX, xxxx, xxx, xxxx, x...  "
      ]
     },
     "execution_count": 313,
     "metadata": {},
     "output_type": "execute_result"
    }
   ],
   "source": [
    "total_df.head()"
   ]
  },
  {
   "cell_type": "markdown",
   "metadata": {},
   "source": [
    "## Sentiment Analyser\n",
    "- Flair\n",
    "- Vader\n",
    "- Blob"
   ]
  },
  {
   "cell_type": "code",
   "execution_count": 314,
   "metadata": {},
   "outputs": [
    {
     "name": "stdout",
     "output_type": "stream",
     "text": [
      "2022-05-26 11:58:21,129 loading file /Users/ade/.flair/models/sentiment-en-mix-distillbert_4.pt\n"
     ]
    }
   ],
   "source": [
    "from textblob import TextBlob\n",
    "from nltk.sentiment import SentimentIntensityAnalyzer\n",
    "from flair.models import TextClassifier\n",
    "from flair.data import Sentence\n",
    "classifier = TextClassifier.load('en-sentiment')"
   ]
  },
  {
   "cell_type": "code",
   "execution_count": 315,
   "metadata": {},
   "outputs": [],
   "source": [
    "def sentiment_analyser(df):\n",
    "    df_vader = []\n",
    "    for sentence in tqdm(df['text'], position=0):\n",
    "        df_vader.append(vader(sentence))\n",
    "    sa_df = pd.DataFrame(df_vader)\n",
    "    sa_df.index = df.index\n",
    "    df['neg_sa'] = sa_df['neg']\n",
    "    df['pos_sa'] = sa_df['pos']\n",
    "    df['neu_sa'] = sa_df['neu']\n",
    "    df['compound_sa'] = sa_df['compound']\n",
    "    return df"
   ]
  },
  {
   "cell_type": "code",
   "execution_count": 316,
   "metadata": {},
   "outputs": [],
   "source": [
    "def vader(sentence):\n",
    "    analyzer = SentimentIntensityAnalyzer()\n",
    "    sentiment = analyzer.polarity_scores(sentence)\n",
    "    return sentiment"
   ]
  },
  {
   "cell_type": "code",
   "execution_count": null,
   "metadata": {},
   "outputs": [],
   "source": [
    "def blob(sentence):\n",
    "    sentiment = TextBlob(sentence).sentiment.polarity\n",
    "    return sentiment"
   ]
  },
  {
   "cell_type": "code",
   "execution_count": null,
   "metadata": {},
   "outputs": [],
   "source": [
    "def fler(sentence):\n",
    "    s = Sentence(sentence)\n",
    "    classifier.predict(s)\n",
    "    sentiment = str(s.labels[0])\n",
    "    num = float(re.findall(r'\\d+\\.\\d+', sentiment)[0])\n",
    "    if sentiment.find('POSITIVE') == -1:\n",
    "        num = num * -1\n",
    "    return num"
   ]
  },
  {
   "cell_type": "code",
   "execution_count": null,
   "metadata": {},
   "outputs": [],
   "source": [
    "## Moved away from using multiple senttiment analysis models, too much computation time, Vader most adapted to social media\n",
    "# def sentiment_analyser(df, v=True, f=False, b=False, r_vader=0.8, r_fler=0.1, r_blob=0.1):\n",
    "#     df_fler, df_vader, df_blob = [], [], []\n",
    "#     for sentence in tqdm(df['body'], position=0):\n",
    "#         if v:\n",
    "#             df_vader.append(vader(sentence))\n",
    "#         if f:\n",
    "#             df_fler.append(fler(sentence))\n",
    "#         if b:\n",
    "#             df_blob.append(blob(sentence))\n",
    "#     if v: \n",
    "#         df['VADER'] = df_vader\n",
    "#     if f: \n",
    "#         df['FLAIR'] = df_fler\n",
    "#     if b:\n",
    "#         df['BLOB'] = df_blob\n",
    "#     if v and f and b:\n",
    "#         df['compound'] = df['VADER']*r_vader + \\\n",
    "#             df['FLAIR']*r_fler + df['BLOB']*r_blob\n",
    "#     elif v and f and not b:\n",
    "#         df['compound'] = df['VADER']*(r_vader+r_blob) + df['FLAIR']*r_fler\n",
    "#     elif v and b and not f:\n",
    "#         df['compound'] = df['VADER']*(r_vader+r_fler) + df['BLOB']*r_blob\n",
    "#     else:\n",
    "#         df['compound'] = df['VADER']\n",
    "#     return df"
   ]
  },
  {
   "cell_type": "code",
   "execution_count": 317,
   "metadata": {},
   "outputs": [
    {
     "name": "stderr",
     "output_type": "stream",
     "text": [
      "100%|██████████| 8/8 [00:00<00:00, 90.15it/s]\n"
     ]
    },
    {
     "data": {
      "text/html": [
       "<div>\n",
       "<style scoped>\n",
       "    .dataframe tbody tr th:only-of-type {\n",
       "        vertical-align: middle;\n",
       "    }\n",
       "\n",
       "    .dataframe tbody tr th {\n",
       "        vertical-align: top;\n",
       "    }\n",
       "\n",
       "    .dataframe thead th {\n",
       "        text-align: right;\n",
       "    }\n",
       "</style>\n",
       "<table border=\"1\" class=\"dataframe\">\n",
       "  <thead>\n",
       "    <tr style=\"text-align: right;\">\n",
       "      <th></th>\n",
       "      <th>text</th>\n",
       "      <th>conversation_id</th>\n",
       "      <th>created_at</th>\n",
       "      <th>retweet_count</th>\n",
       "      <th>reply_count</th>\n",
       "      <th>like_count</th>\n",
       "      <th>quote_count</th>\n",
       "      <th>is_reply_to_user</th>\n",
       "      <th>related_user_id</th>\n",
       "      <th>Pos</th>\n",
       "      <th>Tag</th>\n",
       "      <th>Dep</th>\n",
       "      <th>Shape</th>\n",
       "      <th>neg_sa</th>\n",
       "      <th>pos_sa</th>\n",
       "      <th>neu_sa</th>\n",
       "      <th>compound_sa</th>\n",
       "    </tr>\n",
       "  </thead>\n",
       "  <tbody>\n",
       "    <tr>\n",
       "      <th>0</th>\n",
       "      <td>If your long term conviction of bitcoin’s valu...</td>\n",
       "      <td>1525612785375264768</td>\n",
       "      <td>2022-05-14 23:03:27+00:00</td>\n",
       "      <td>378</td>\n",
       "      <td>196</td>\n",
       "      <td>2546</td>\n",
       "      <td>42</td>\n",
       "      <td>0</td>\n",
       "      <td>339061487</td>\n",
       "      <td>[SCONJ, PRON, ADJ, NOUN, NOUN, ADP, NOUN, PART...</td>\n",
       "      <td>[IN, PRP$, JJ, NN, NN, IN, NN, POS, NN, VBN, I...</td>\n",
       "      <td>[mark, poss, amod, compound, nsubj, prep, nmod...</td>\n",
       "      <td>[Xx, xxxx, xxxx, xxxx, xxxx, xx, xxxx, ’x, xxx...</td>\n",
       "      <td>0.000</td>\n",
       "      <td>0.118</td>\n",
       "      <td>0.882</td>\n",
       "      <td>0.3400</td>\n",
       "    </tr>\n",
       "    <tr>\n",
       "      <th>1</th>\n",
       "      <td>We have helped nearly 1,000 people get a new j...</td>\n",
       "      <td>1525490438093799424</td>\n",
       "      <td>2022-05-14 14:57:17+00:00</td>\n",
       "      <td>50</td>\n",
       "      <td>87</td>\n",
       "      <td>331</td>\n",
       "      <td>4</td>\n",
       "      <td>0</td>\n",
       "      <td>339061487</td>\n",
       "      <td>[PRON, AUX, VERB, ADV, NUM, NOUN, VERB, DET, A...</td>\n",
       "      <td>[PRP, VBP, VBN, RB, CD, NNS, VBP, DT, JJ, NN, ...</td>\n",
       "      <td>[nsubj, aux, ROOT, advmod, nummod, nsubj, ccom...</td>\n",
       "      <td>[Xx, xxxx, xxxx, xxxx, d,ddd, xxxx, xxx, x, xx...</td>\n",
       "      <td>0.000</td>\n",
       "      <td>0.121</td>\n",
       "      <td>0.879</td>\n",
       "      <td>0.6052</td>\n",
       "    </tr>\n",
       "    <tr>\n",
       "      <th>2</th>\n",
       "      <td>Bitcoin is the best first principles solution ...</td>\n",
       "      <td>1525234174046658565</td>\n",
       "      <td>2022-05-13 21:58:59+00:00</td>\n",
       "      <td>209</td>\n",
       "      <td>231</td>\n",
       "      <td>1380</td>\n",
       "      <td>24</td>\n",
       "      <td>0</td>\n",
       "      <td>339061487</td>\n",
       "      <td>[PROPN, AUX, DET, ADJ, ADJ, NOUN, NOUN, ADP, A...</td>\n",
       "      <td>[NNP, VBZ, DT, JJS, JJ, NNS, NN, IN, JJ, IN, D...</td>\n",
       "      <td>[nsubj, ROOT, det, amod, amod, compound, attr,...</td>\n",
       "      <td>[Xxxxx, xx, xxx, xxxx, xxxx, xxxx, xxxx, xx, x...</td>\n",
       "      <td>0.128</td>\n",
       "      <td>0.221</td>\n",
       "      <td>0.651</td>\n",
       "      <td>0.6908</td>\n",
       "    </tr>\n",
       "    <tr>\n",
       "      <th>3</th>\n",
       "      <td>I have officially been writing a letter on tec...</td>\n",
       "      <td>1525106011849347078</td>\n",
       "      <td>2022-05-13 13:29:42+00:00</td>\n",
       "      <td>34</td>\n",
       "      <td>101</td>\n",
       "      <td>373</td>\n",
       "      <td>3</td>\n",
       "      <td>0</td>\n",
       "      <td>339061487</td>\n",
       "      <td>[PRON, AUX, ADV, AUX, VERB, DET, NOUN, ADP, NO...</td>\n",
       "      <td>[PRP, VBP, RB, VBN, VBG, DT, NN, IN, NN, ,, JJ...</td>\n",
       "      <td>[nsubj, aux, advmod, aux, ROOT, det, dobj, pre...</td>\n",
       "      <td>[X, xxxx, xxxx, xxxx, xxxx, x, xxxx, xx, xxxx,...</td>\n",
       "      <td>0.000</td>\n",
       "      <td>0.235</td>\n",
       "      <td>0.765</td>\n",
       "      <td>0.9061</td>\n",
       "    </tr>\n",
       "    <tr>\n",
       "      <th>4</th>\n",
       "      <td>If the fact the US government can freeze it d...</td>\n",
       "      <td>1525612785375264768</td>\n",
       "      <td>2022-05-14 23:05:38+00:00</td>\n",
       "      <td>0</td>\n",
       "      <td>11</td>\n",
       "      <td>26</td>\n",
       "      <td>0</td>\n",
       "      <td>1</td>\n",
       "      <td>339061487</td>\n",
       "      <td>[SPACE, SCONJ, DET, NOUN, DET, PROPN, NOUN, AU...</td>\n",
       "      <td>[_SP, IN, DT, NN, DT, NNP, NN, MD, VB, PRP, VB...</td>\n",
       "      <td>[dep, mark, det, nsubj, det, compound, nsubj, ...</td>\n",
       "      <td>[ , Xx, xxx, xxxx, xxx, XX, xxxx, xxx, xxxx, x...</td>\n",
       "      <td>0.000</td>\n",
       "      <td>0.059</td>\n",
       "      <td>0.941</td>\n",
       "      <td>0.0516</td>\n",
       "    </tr>\n",
       "  </tbody>\n",
       "</table>\n",
       "</div>"
      ],
      "text/plain": [
       "                                                text      conversation_id  \\\n",
       "0  If your long term conviction of bitcoin’s valu...  1525612785375264768   \n",
       "1  We have helped nearly 1,000 people get a new j...  1525490438093799424   \n",
       "2  Bitcoin is the best first principles solution ...  1525234174046658565   \n",
       "3  I have officially been writing a letter on tec...  1525106011849347078   \n",
       "4   If the fact the US government can freeze it d...  1525612785375264768   \n",
       "\n",
       "                 created_at  retweet_count  reply_count  like_count  \\\n",
       "0 2022-05-14 23:03:27+00:00            378          196        2546   \n",
       "1 2022-05-14 14:57:17+00:00             50           87         331   \n",
       "2 2022-05-13 21:58:59+00:00            209          231        1380   \n",
       "3 2022-05-13 13:29:42+00:00             34          101         373   \n",
       "4 2022-05-14 23:05:38+00:00              0           11          26   \n",
       "\n",
       "   quote_count  is_reply_to_user  related_user_id  \\\n",
       "0           42                 0        339061487   \n",
       "1            4                 0        339061487   \n",
       "2           24                 0        339061487   \n",
       "3            3                 0        339061487   \n",
       "4            0                 1        339061487   \n",
       "\n",
       "                                                 Pos  \\\n",
       "0  [SCONJ, PRON, ADJ, NOUN, NOUN, ADP, NOUN, PART...   \n",
       "1  [PRON, AUX, VERB, ADV, NUM, NOUN, VERB, DET, A...   \n",
       "2  [PROPN, AUX, DET, ADJ, ADJ, NOUN, NOUN, ADP, A...   \n",
       "3  [PRON, AUX, ADV, AUX, VERB, DET, NOUN, ADP, NO...   \n",
       "4  [SPACE, SCONJ, DET, NOUN, DET, PROPN, NOUN, AU...   \n",
       "\n",
       "                                                 Tag  \\\n",
       "0  [IN, PRP$, JJ, NN, NN, IN, NN, POS, NN, VBN, I...   \n",
       "1  [PRP, VBP, VBN, RB, CD, NNS, VBP, DT, JJ, NN, ...   \n",
       "2  [NNP, VBZ, DT, JJS, JJ, NNS, NN, IN, JJ, IN, D...   \n",
       "3  [PRP, VBP, RB, VBN, VBG, DT, NN, IN, NN, ,, JJ...   \n",
       "4  [_SP, IN, DT, NN, DT, NNP, NN, MD, VB, PRP, VB...   \n",
       "\n",
       "                                                 Dep  \\\n",
       "0  [mark, poss, amod, compound, nsubj, prep, nmod...   \n",
       "1  [nsubj, aux, ROOT, advmod, nummod, nsubj, ccom...   \n",
       "2  [nsubj, ROOT, det, amod, amod, compound, attr,...   \n",
       "3  [nsubj, aux, advmod, aux, ROOT, det, dobj, pre...   \n",
       "4  [dep, mark, det, nsubj, det, compound, nsubj, ...   \n",
       "\n",
       "                                               Shape  neg_sa  pos_sa  neu_sa  \\\n",
       "0  [Xx, xxxx, xxxx, xxxx, xxxx, xx, xxxx, ’x, xxx...   0.000   0.118   0.882   \n",
       "1  [Xx, xxxx, xxxx, xxxx, d,ddd, xxxx, xxx, x, xx...   0.000   0.121   0.879   \n",
       "2  [Xxxxx, xx, xxx, xxxx, xxxx, xxxx, xxxx, xx, x...   0.128   0.221   0.651   \n",
       "3  [X, xxxx, xxxx, xxxx, xxxx, x, xxxx, xx, xxxx,...   0.000   0.235   0.765   \n",
       "4  [ , Xx, xxx, xxxx, xxx, XX, xxxx, xxx, xxxx, x...   0.000   0.059   0.941   \n",
       "\n",
       "   compound_sa  \n",
       "0       0.3400  \n",
       "1       0.6052  \n",
       "2       0.6908  \n",
       "3       0.9061  \n",
       "4       0.0516  "
      ]
     },
     "execution_count": 317,
     "metadata": {},
     "output_type": "execute_result"
    }
   ],
   "source": [
    "total_df = sentiment_analyser(total_df)\n",
    "total_df.head()"
   ]
  },
  {
   "cell_type": "code",
   "execution_count": null,
   "metadata": {},
   "outputs": [],
   "source": [
    "import multiprocessing\n",
    "# part to be used for very large df but it has to be written again\n",
    "n_splits = 8\n",
    "n_rows = len(total_df)\n",
    "chunks = [[int(i * n_rows/n_splits), int((i+1) * n_rows/n_splits)]  for i in range(n_splits)]\n",
    "\n",
    "# function to perform vader analysis on portion of the table\n",
    "def vader_worker(row_range):    \n",
    "    return sentiment_analyser(total_df.iloc[row_range[0]:row_range[1]])\n",
    "\n",
    "p = multiprocessing.Pool(processes=n_splits) \n",
    "total_df = p.map(vader_worker, chunks)\n",
    "p.close() \n",
    "del p\n",
    "\n",
    "total_df = pd.concat(total_df)\n",
    "#twitter_df.to_csv(INTERM_DIR+'/XXX/XX')"
   ]
  },
  {
   "cell_type": "code",
   "execution_count": 516,
   "metadata": {},
   "outputs": [],
   "source": [
    "def weighted_compound(df, drop_ratio=1, o_w=0.7):\n",
    "    df['ratio'] = 0\n",
    "    df['ratio'] = (df[df['is_reply_to_user']==1].groupby(by=\"conversation_id\")['like_count'].transform(lambda x: (x / x.sum())) * df['compound_sa'])\n",
    "    for item in pd.unique(df['conversation_id']):\n",
    "        o = df[(df['conversation_id']==item) & (df['is_reply_to_user']==0)]['compound_sa'].sum()\n",
    "        r = df[(df['conversation_id']==item) & (df['is_reply_to_user']==1)]['ratio'].sum()\n",
    "        pct = abs((o-r)/o)\n",
    "        idx = df[(df['conversation_id']==item)].index\n",
    "        if pct > drop_ratio:\n",
    "            df.drop(idx.index)\n",
    "            continue\n",
    "        df['w_sa'][idx] = (o*o_w) + (r*(1-o_w))\n",
    "    df.drop(df[(df['is_reply_to_user']==1)].index)\n",
    "    return df"
   ]
  },
  {
   "cell_type": "markdown",
   "metadata": {},
   "source": [
    "## Finding clusters of information"
   ]
  },
  {
   "cell_type": "code",
   "execution_count": 559,
   "metadata": {},
   "outputs": [],
   "source": [
    "def clustering(df, delta='30T', rate=0.022):\n",
    "    features = ['retweet_count', 'reply_count',\n",
    "       'like_count', 'quote_count', 'w_sa']\n",
    "    features_df=df.resample(delta, on='created_at')[features].mean()\n",
    "    features_df['total_tweets'] = total_df.resample('30T', on='created_at').size()\n",
    "    features_df = features_df.dropna(how='any', axis=0)\n",
    "    features_df = features_df[abs(features_df['w_sa'].pct_change()) > rate]\n",
    "    return features_df"
   ]
  },
  {
   "cell_type": "code",
   "execution_count": 643,
   "metadata": {},
   "outputs": [
    {
     "data": {
      "text/html": [
       "<div>\n",
       "<style scoped>\n",
       "    .dataframe tbody tr th:only-of-type {\n",
       "        vertical-align: middle;\n",
       "    }\n",
       "\n",
       "    .dataframe tbody tr th {\n",
       "        vertical-align: top;\n",
       "    }\n",
       "\n",
       "    .dataframe thead th {\n",
       "        text-align: right;\n",
       "    }\n",
       "</style>\n",
       "<table border=\"1\" class=\"dataframe\">\n",
       "  <thead>\n",
       "    <tr style=\"text-align: right;\">\n",
       "      <th></th>\n",
       "      <th>retweet_count</th>\n",
       "      <th>reply_count</th>\n",
       "      <th>like_count</th>\n",
       "      <th>quote_count</th>\n",
       "      <th>w_sa</th>\n",
       "      <th>total_tweets</th>\n",
       "    </tr>\n",
       "    <tr>\n",
       "      <th>created_at</th>\n",
       "      <th></th>\n",
       "      <th></th>\n",
       "      <th></th>\n",
       "      <th></th>\n",
       "      <th></th>\n",
       "      <th></th>\n",
       "    </tr>\n",
       "  </thead>\n",
       "  <tbody>\n",
       "    <tr>\n",
       "      <th>2022-05-13 21:30:00+00:00</th>\n",
       "      <td>209.0</td>\n",
       "      <td>231.0</td>\n",
       "      <td>1380.000000</td>\n",
       "      <td>24.0</td>\n",
       "      <td>0.483560</td>\n",
       "      <td>1</td>\n",
       "    </tr>\n",
       "    <tr>\n",
       "      <th>2022-05-14 14:30:00+00:00</th>\n",
       "      <td>50.0</td>\n",
       "      <td>87.0</td>\n",
       "      <td>331.000000</td>\n",
       "      <td>4.0</td>\n",
       "      <td>0.423640</td>\n",
       "      <td>1</td>\n",
       "    </tr>\n",
       "    <tr>\n",
       "      <th>2022-05-14 23:00:00+00:00</th>\n",
       "      <td>126.0</td>\n",
       "      <td>71.0</td>\n",
       "      <td>864.333333</td>\n",
       "      <td>14.0</td>\n",
       "      <td>0.280655</td>\n",
       "      <td>3</td>\n",
       "    </tr>\n",
       "  </tbody>\n",
       "</table>\n",
       "</div>"
      ],
      "text/plain": [
       "                           retweet_count  reply_count   like_count  \\\n",
       "created_at                                                           \n",
       "2022-05-13 21:30:00+00:00          209.0        231.0  1380.000000   \n",
       "2022-05-14 14:30:00+00:00           50.0         87.0   331.000000   \n",
       "2022-05-14 23:00:00+00:00          126.0         71.0   864.333333   \n",
       "\n",
       "                           quote_count      w_sa  total_tweets  \n",
       "created_at                                                      \n",
       "2022-05-13 21:30:00+00:00         24.0  0.483560             1  \n",
       "2022-05-14 14:30:00+00:00          4.0  0.423640             1  \n",
       "2022-05-14 23:00:00+00:00         14.0  0.280655             3  "
      ]
     },
     "execution_count": 643,
     "metadata": {},
     "output_type": "execute_result"
    }
   ],
   "source": [
    "features_df"
   ]
  },
  {
   "cell_type": "code",
   "execution_count": 664,
   "metadata": {},
   "outputs": [],
   "source": [
    "bitcoin_df = backup"
   ]
  },
  {
   "cell_type": "code",
   "execution_count": 667,
   "metadata": {},
   "outputs": [],
   "source": [
    "t_0 = features_df.index\n",
    "t_1 = t_x + timedelta(hours=2.0)\n",
    "bitcoin_df['time'] = bitcoin_df['time'].dt.strftime('%Y-%m-%d %H:%M:00')\n",
    "t_0 = t_0.strftime('%Y-%m-%d %H:%M:00')\n",
    "t_1 = t_1.strftime('%Y-%m-%d %H:%M:00')\n",
    "t_all = t_0.append(t_1)\n",
    "bitcoin_df = bitcoin_df[(bitcoin_df['time'].isin(t_all))][['time', 'close', 'volume']]\n",
    "bitcoin_df['time'] = pd.to_datetime(bitcoin_df['time'])\n",
    "bitcoin_df = bitcoin_df.set_index('time')\n",
    "bitcoin_df['returns'] = bitcoin_df.pct_change(periods=1, freq='120T')['close']\n",
    "bitcoin_df = bitcoin_df.dropna(how='any', axis=0)\n",
    "bitcoin_df.index = bitcoin_df.index - timedelta(hours=2.0)"
   ]
  },
  {
   "cell_type": "code",
   "execution_count": 645,
   "metadata": {},
   "outputs": [
    {
     "data": {
      "text/html": [
       "<div>\n",
       "<style scoped>\n",
       "    .dataframe tbody tr th:only-of-type {\n",
       "        vertical-align: middle;\n",
       "    }\n",
       "\n",
       "    .dataframe tbody tr th {\n",
       "        vertical-align: top;\n",
       "    }\n",
       "\n",
       "    .dataframe thead th {\n",
       "        text-align: right;\n",
       "    }\n",
       "</style>\n",
       "<table border=\"1\" class=\"dataframe\">\n",
       "  <thead>\n",
       "    <tr style=\"text-align: right;\">\n",
       "      <th></th>\n",
       "      <th>close</th>\n",
       "      <th>volume</th>\n",
       "    </tr>\n",
       "    <tr>\n",
       "      <th>time</th>\n",
       "      <th></th>\n",
       "      <th></th>\n",
       "    </tr>\n",
       "  </thead>\n",
       "  <tbody>\n",
       "    <tr>\n",
       "      <th>2022-05-13 21:30:00</th>\n",
       "      <td>29935.0</td>\n",
       "      <td>0.249478</td>\n",
       "    </tr>\n",
       "    <tr>\n",
       "      <th>2022-05-13 23:30:00</th>\n",
       "      <td>29497.0</td>\n",
       "      <td>0.423375</td>\n",
       "    </tr>\n",
       "    <tr>\n",
       "      <th>2022-05-14 14:30:00</th>\n",
       "      <td>28868.0</td>\n",
       "      <td>3.684054</td>\n",
       "    </tr>\n",
       "    <tr>\n",
       "      <th>2022-05-14 16:30:00</th>\n",
       "      <td>29007.0</td>\n",
       "      <td>0.278126</td>\n",
       "    </tr>\n",
       "    <tr>\n",
       "      <th>2022-05-14 23:00:00</th>\n",
       "      <td>30295.0</td>\n",
       "      <td>2.836462</td>\n",
       "    </tr>\n",
       "    <tr>\n",
       "      <th>2022-05-15 01:00:00</th>\n",
       "      <td>30012.0</td>\n",
       "      <td>0.270614</td>\n",
       "    </tr>\n",
       "  </tbody>\n",
       "</table>\n",
       "</div>"
      ],
      "text/plain": [
       "                       close    volume\n",
       "time                                  \n",
       "2022-05-13 21:30:00  29935.0  0.249478\n",
       "2022-05-13 23:30:00  29497.0  0.423375\n",
       "2022-05-14 14:30:00  28868.0  3.684054\n",
       "2022-05-14 16:30:00  29007.0  0.278126\n",
       "2022-05-14 23:00:00  30295.0  2.836462\n",
       "2022-05-15 01:00:00  30012.0  0.270614"
      ]
     },
     "execution_count": 645,
     "metadata": {},
     "output_type": "execute_result"
    }
   ],
   "source": [
    "bitcoin_df"
   ]
  },
  {
   "cell_type": "code",
   "execution_count": 560,
   "metadata": {},
   "outputs": [
    {
     "data": {
      "text/html": [
       "<div>\n",
       "<style scoped>\n",
       "    .dataframe tbody tr th:only-of-type {\n",
       "        vertical-align: middle;\n",
       "    }\n",
       "\n",
       "    .dataframe tbody tr th {\n",
       "        vertical-align: top;\n",
       "    }\n",
       "\n",
       "    .dataframe thead th {\n",
       "        text-align: right;\n",
       "    }\n",
       "</style>\n",
       "<table border=\"1\" class=\"dataframe\">\n",
       "  <thead>\n",
       "    <tr style=\"text-align: right;\">\n",
       "      <th></th>\n",
       "      <th>time</th>\n",
       "      <th>open</th>\n",
       "      <th>close</th>\n",
       "      <th>high</th>\n",
       "      <th>low</th>\n",
       "      <th>volume</th>\n",
       "    </tr>\n",
       "  </thead>\n",
       "  <tbody>\n",
       "    <tr>\n",
       "      <th>0</th>\n",
       "      <td>2022-04-23 22:00:00</td>\n",
       "      <td>39920.0</td>\n",
       "      <td>39920.000000</td>\n",
       "      <td>39920.0</td>\n",
       "      <td>39920.0</td>\n",
       "      <td>0.005000</td>\n",
       "    </tr>\n",
       "    <tr>\n",
       "      <th>1</th>\n",
       "      <td>2022-04-23 22:01:00</td>\n",
       "      <td>39919.0</td>\n",
       "      <td>39906.909436</td>\n",
       "      <td>39920.0</td>\n",
       "      <td>39901.0</td>\n",
       "      <td>5.287201</td>\n",
       "    </tr>\n",
       "    <tr>\n",
       "      <th>2</th>\n",
       "      <td>2022-04-23 22:02:00</td>\n",
       "      <td>39906.0</td>\n",
       "      <td>39893.000000</td>\n",
       "      <td>39906.0</td>\n",
       "      <td>39893.0</td>\n",
       "      <td>0.757476</td>\n",
       "    </tr>\n",
       "    <tr>\n",
       "      <th>3</th>\n",
       "      <td>2022-04-23 22:03:00</td>\n",
       "      <td>39892.0</td>\n",
       "      <td>39892.000000</td>\n",
       "      <td>39892.0</td>\n",
       "      <td>39892.0</td>\n",
       "      <td>0.000417</td>\n",
       "    </tr>\n",
       "    <tr>\n",
       "      <th>4</th>\n",
       "      <td>2022-04-23 22:04:00</td>\n",
       "      <td>39893.0</td>\n",
       "      <td>39893.000000</td>\n",
       "      <td>39893.0</td>\n",
       "      <td>39892.0</td>\n",
       "      <td>0.031772</td>\n",
       "    </tr>\n",
       "  </tbody>\n",
       "</table>\n",
       "</div>"
      ],
      "text/plain": [
       "                  time     open         close     high      low    volume\n",
       "0  2022-04-23 22:00:00  39920.0  39920.000000  39920.0  39920.0  0.005000\n",
       "1  2022-04-23 22:01:00  39919.0  39906.909436  39920.0  39901.0  5.287201\n",
       "2  2022-04-23 22:02:00  39906.0  39893.000000  39906.0  39893.0  0.757476\n",
       "3  2022-04-23 22:03:00  39892.0  39892.000000  39892.0  39892.0  0.000417\n",
       "4  2022-04-23 22:04:00  39893.0  39893.000000  39893.0  39892.0  0.031772"
      ]
     },
     "execution_count": 560,
     "metadata": {},
     "output_type": "execute_result"
    }
   ],
   "source": [
    "bitcoin_df.head()"
   ]
  },
  {
   "cell_type": "code",
   "execution_count": 561,
   "metadata": {},
   "outputs": [
    {
     "data": {
      "text/plain": [
       "<AxesSubplot:>"
      ]
     },
     "execution_count": 561,
     "metadata": {},
     "output_type": "execute_result"
    },
    {
     "data": {
      "image/png": "[encoded data removed]",
      "text/plain": [
       "<Figure size 1440x720 with 1 Axes>"
      ]
     },
     "metadata": {
      "needs_background": "light"
     },
     "output_type": "display_data"
    }
   ],
   "source": [
    "bitcoin_df['close'].plot(figsize=(20,10))"
   ]
  },
  {
   "cell_type": "code",
   "execution_count": null,
   "metadata": {},
   "outputs": [],
   "source": []
  },
  {
   "cell_type": "code",
   "execution_count": null,
   "metadata": {},
   "outputs": [],
   "source": [
    "# minmax scale it\n",
    "bitcoin_df['returns'] = (bitcoin_df['returns']-bitcoin_df['returns'].min()) / (bitcoin_df['returns'].max()-bitcoin_df['returns'].min())\n",
    "bitcoin_df['returns'].plot(figsize=(20,10))"
   ]
  },
  {
   "cell_type": "code",
   "execution_count": null,
   "metadata": {},
   "outputs": [],
   "source": [
    "bull_lexicon = ['buy','call','forward','long','up','grow','rise','green','hold','carry','bull']\n",
    "bear_lexicon = ['short','sell','down','drop','decrease','red','bear']"
   ]
  },
  {
   "cell_type": "code",
   "execution_count": null,
   "metadata": {},
   "outputs": [],
   "source": [
    "twitter_df['bull_count'] = twitter_df['text'].apply(lambda x: any(substring in x for substring in bull_lexicon))\n",
    "twitter_df['bear_count'] = twitter_df['text'].apply(lambda x: any(substring in x for substring in bear_lexicon))"
   ]
  },
  {
   "cell_type": "code",
   "execution_count": null,
   "metadata": {},
   "outputs": [],
   "source": [
    "counts_per_day = twitter_df.reset_index().groupby('date')['index'].count()\n",
    "counts_per_day.plot(figsize=(20,10))"
   ]
  },
  {
   "cell_type": "code",
   "execution_count": null,
   "metadata": {},
   "outputs": [],
   "source": [
    "twitter_df['score'] = twitter_df['like_count'].astype(int)\n",
    "twitter_df['score'] = twitter_df[['score']].apply(lambda x: x.fillna(x.mean()))\n",
    "twitter_df['abs_score'] = np.abs(twitter_df['score'])\n",
    "\n",
    "#Clustering\n",
    "twitter_df = pd.merge(twitter_df.drop('abs_score', axis=1), \n",
    "                                 twitter_df.groupby('date')['abs_score'].sum(), left_on='date', right_index=True)\n",
    "\n",
    "exp_scalar = 1.1\n",
    "# Normalize score by total (absolute) score for that day\n",
    "twitter_df['score_w'] = twitter_df['score']**exp_scalar /twitter_df['abs_score']\n",
    "twitter_df = twitter_df.drop(['abs_score'], axis=1)\n",
    "twitter_df['compound_sa'] = twitter_df['compound_sa'] * twitter_df['score_w']\n",
    "twitter_df['neg_sa'] = twitter_df['neg_sa'] * twitter_df['score_w']\n",
    "twitter_df['pos_sa'] = twitter_df['pos_sa'] * twitter_df['score_w']\n",
    "twitter_df['neu_sa'] = twitter_df['neu_sa'] * twitter_df['score_w']\n",
    "twitter_df['bull_count'] = twitter_df['bull_count'] * twitter_df['score_w']\n",
    "twitter_df['bear_count'] = twitter_df['bear_count'] * twitter_df['score_w']"
   ]
  },
  {
   "cell_type": "code",
   "execution_count": null,
   "metadata": {},
   "outputs": [],
   "source": [
    "twitter_df = twitter_df.groupby('date')[['score','compound_sa','neg_sa','pos_sa','neu_sa','bear_count','bull_count']].agg(\n",
    "    {'compound_sa' : ['sum'], \n",
    "     'neg_sa' : ['sum'], \n",
    "     'neu_sa' : ['sum'], \n",
    "     'pos_sa' : ['sum'],\n",
    "     'bear_count' : ['sum'],\n",
    "     'bull_count' : ['sum'],\n",
    "     'score' : ['mean']}).reset_index()"
   ]
  },
  {
   "cell_type": "code",
   "execution_count": null,
   "metadata": {},
   "outputs": [],
   "source": [
    "twitter_df.plot(x = 'date', y = 'compound_sa', figsize=(20,10))\n",
    "plt.show()"
   ]
  },
  {
   "cell_type": "code",
   "execution_count": null,
   "metadata": {},
   "outputs": [],
   "source": [
    "twitter_df.plot(x = 'date', y = 'neg_sa', figsize=(20,10))\n",
    "plt.show()"
   ]
  },
  {
   "cell_type": "code",
   "execution_count": null,
   "metadata": {},
   "outputs": [],
   "source": [
    "twitter_df.plot(x = 'date', y = 'pos_sa', figsize=(20,10))\n",
    "plt.show()"
   ]
  },
  {
   "cell_type": "code",
   "execution_count": null,
   "metadata": {},
   "outputs": [],
   "source": [
    "twitter_df.plot(x = 'date', y = 'neu_sa', figsize=(20,10))\n",
    "plt.show()"
   ]
  },
  {
   "cell_type": "code",
   "execution_count": null,
   "metadata": {},
   "outputs": [],
   "source": [
    "twitter_df.plot(x = 'date', y = 'bear_count', figsize=(20,10))\n",
    "plt.show()"
   ]
  },
  {
   "cell_type": "code",
   "execution_count": null,
   "metadata": {},
   "outputs": [],
   "source": [
    "twitter_df.plot(x = 'date', y = 'bull_count', figsize=(20,10))\n",
    "plt.show()"
   ]
  },
  {
   "cell_type": "code",
   "execution_count": null,
   "metadata": {},
   "outputs": [],
   "source": [
    "twitter_df.plot(x = 'date', y = 'score', figsize=(20,10))\n",
    "plt.show()\n",
    "twitter_df = twitter_df.drop('score', axis=1)"
   ]
  },
  {
   "cell_type": "code",
   "execution_count": null,
   "metadata": {},
   "outputs": [],
   "source": [
    "### Fast Fourier Transform on Sentiment Analyses"
   ]
  },
  {
   "cell_type": "code",
   "execution_count": null,
   "metadata": {},
   "outputs": [],
   "source": [
    "from scipy.fftpack import fft, ifft\n",
    "\n",
    "def fourier(df, n_dimensions, col):\n",
    "    for n in n_dimensions:\n",
    "        n = round(n)\n",
    "        tmp_ = fft(df[col].values)\n",
    "        tmp_[n:-n] = 0\n",
    "        df[str(n)+'fourier'+col] = np.abs(ifft(tmp_))\n",
    "    return df\n",
    "\n",
    "# how to choose the values of fourier?\n",
    "l = len(twitter_df)\n",
    "twitter_df = fourier(twitter_df, [100, 200], 'compound_sa_sum')\n",
    "twitter_df = fourier(twitter_df, [100, 200], 'pos_sa_sum')\n",
    "twitter_df = fourier(twitter_df, [100, 200], 'neg_sa_sum')\n",
    "twitter_df = fourier(twitter_df, [100, 200], 'neu_sa_sum')\n",
    "returns = fourier(twitter_df['returns'], [200, 400], 'price')"
   ]
  },
  {
   "cell_type": "code",
   "execution_count": null,
   "metadata": {},
   "outputs": [],
   "source": [
    "twitter_df[['compound_sa_sum','100fouriercompound_sa_sum','200fouriercompound_sa_sum']].plot(figsize=(20,10))"
   ]
  },
  {
   "cell_type": "code",
   "execution_count": null,
   "metadata": {},
   "outputs": [],
   "source": [
    "twitter_df[['pos_sa_sum','100fourierpos_sa_sum','200fourierpos_sa_sum']].plot(figsize=(20,10))"
   ]
  },
  {
   "cell_type": "code",
   "execution_count": null,
   "metadata": {},
   "outputs": [],
   "source": [
    "twitter_df[['neg_sa_sum','100fourierneg_sa_sum','200fourierneg_sa_sum']].plot(figsize=(20,10))"
   ]
  },
  {
   "cell_type": "code",
   "execution_count": null,
   "metadata": {},
   "outputs": [],
   "source": [
    "twitter_df[['neu_sa_sum','100fourierneu_sa_sum','200fourierneu_sa_sum']].plot(figsize=(20,10))"
   ]
  },
  {
   "cell_type": "code",
   "execution_count": null,
   "metadata": {},
   "outputs": [],
   "source": [
    "returns[['SPY_Open','200fourierSPY_Open','400fourierSPY_Open']].plot(figsize=(20,10))"
   ]
  },
  {
   "cell_type": "code",
   "execution_count": null,
   "metadata": {},
   "outputs": [],
   "source": [
    "twitter_df = twitter_df.drop(['compound_sa_sum','pos_sa_sum','neg_sa_sum','neu_sa_sum'], axis=1)"
   ]
  },
  {
   "cell_type": "code",
   "execution_count": null,
   "metadata": {},
   "outputs": [],
   "source": [
    "def merged_df(df, df_tickers):\n",
    "    final_df = pd.merge(df, df_tickers, left_on='date_', right_on='Date')\n",
    "    final_df = final_df.set_index('date_')\n",
    "    return final_df\n",
    "\n",
    "final_df = merged_df(twitter_df, returns)\n",
    "#final_df.to_pickle(INTERM_DIR+f'/clean/Final_df_pkl')"
   ]
  },
  {
   "cell_type": "code",
   "execution_count": null,
   "metadata": {},
   "outputs": [],
   "source": [
    "final_df.head()"
   ]
  },
  {
   "cell_type": "code",
   "execution_count": null,
   "metadata": {},
   "outputs": [],
   "source": [
    "from numpy.lib.stride_tricks import sliding_window_view\n",
    "y = bitcoin_df['prices']\n",
    "# change between today and tomorrow is today's predictor\n",
    "y = y.pct_change()[1:].apply(lambda x: 0 if x < 0 else 1).shift(-1)\n",
    "y = y[y.index.isin(final_df.index)]\n",
    "# the information throughout today is only known tomorrow ???\n",
    "# investment decision is made before the open ??\n",
    "X = final_df.shift(1).dropna().to_numpy()\n",
    "window_size = 6\n",
    "## No need to normalize, normalization happens due to feature engineering and bitcoin returns already normalized\n",
    "# Create windows\n",
    "# flip and flip back to make it a reverse window (t-2, t-3... t-window_size)\n",
    "windowed_X = sliding_window_view(np.flip(X, axis=0), window_shape = window_size, axis=0)\n",
    "windowed_X = np.flip(windowed_X, axis=0)\n",
    "windowed_X = np.flip(windowed_X, axis=2)\n",
    "\n",
    "y = y.iloc[window_size:].to_numpy()\n",
    "print(windowed_X.shape)"
   ]
  },
  {
   "cell_type": "markdown",
   "metadata": {},
   "source": [
    "### Splitting"
   ]
  },
  {
   "cell_type": "code",
   "execution_count": null,
   "metadata": {},
   "outputs": [],
   "source": [
    "import sklearn\n",
    "# print(sklearn.__version__) # make sure > 0.24\n",
    "\n",
    "X = windowed_X\n",
    "\n",
    "trainsplit = sklearn.model_selection.TimeSeriesSplit(n_splits=2, gap = window_size, test_size = int(0.3 * X.shape[0]))\n",
    "\n",
    "for train_index, rem_index in trainsplit.split(X):\n",
    "\n",
    "    X_train, X_rem = X[train_index], X[rem_index]\n",
    "    y_train, y_rem = y[train_index], y[rem_index]\n",
    "    \n",
    "\n",
    "valsplit = sklearn.model_selection.TimeSeriesSplit(n_splits=2, gap = window_size, test_size = int(0.33 * X_rem.shape[0]))\n",
    "for val_index, test_index in valsplit.split(X_rem):\n",
    "\n",
    "    X_val, X_test = X_rem[val_index], X_rem[test_index]\n",
    "    y_val, y_test = y_rem[val_index], y_rem[test_index]\n",
    "    \n",
    "print(X_train.shape)\n",
    "print(X_val.shape)\n",
    "print(X_test.shape)"
   ]
  },
  {
   "cell_type": "code",
   "execution_count": null,
   "metadata": {},
   "outputs": [],
   "source": [
    "import pickle as pkl\n",
    "with open(os.path.join(INTERM_DIR, 'train_data.pkl'), 'wb') as f:\n",
    "    pkl.dump([X_train, y_train, X_val, y_val, X_test, y_test], f)"
   ]
  },
  {
   "cell_type": "code",
   "execution_count": null,
   "metadata": {},
   "outputs": [],
   "source": [
    "with open(os.path.join(INTERM_DIR, 'train_data.pkl'), 'rb') as f:\n",
    "    X_train, y_train, X_val, y_val, X_test, y_test = pkl.load(f)"
   ]
  }
 ],
 "metadata": {
  "interpreter": {
   "hash": "aee8b7b246df8f9039afb4144a1f6fd8d2ca17a180786b69acc140d282b71a49"
  },
  "kernelspec": {
   "display_name": "Python 3.9.10 64-bit",
   "language": "python",
   "name": "python3"
  },
  "language_info": {
   "codemirror_mode": {
    "name": "ipython",
    "version": 3
   },
   "file_extension": ".py",
   "mimetype": "text/x-python",
   "name": "python",
   "nbconvert_exporter": "python",
   "pygments_lexer": "ipython3",
   "version": "3.9.10"
  },
  "orig_nbformat": 4
 },
 "nbformat": 4,
 "nbformat_minor": 2
}
